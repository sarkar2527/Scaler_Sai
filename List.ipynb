{
  "nbformat": 4,
  "nbformat_minor": 0,
  "metadata": {
    "colab": {
      "provenance": [],
      "authorship_tag": "ABX9TyN9O3U2igZ9V6z8qQx9aT0n",
      "include_colab_link": true
    },
    "kernelspec": {
      "name": "python3",
      "display_name": "Python 3"
    },
    "language_info": {
      "name": "python"
    }
  },
  "cells": [
    {
      "cell_type": "markdown",
      "metadata": {
        "id": "view-in-github",
        "colab_type": "text"
      },
      "source": [
        "<a href=\"https://colab.research.google.com/github/sarkar2527/Scaler_Sai/blob/main/List.ipynb\" target=\"_parent\"><img src=\"https://colab.research.google.com/assets/colab-badge.svg\" alt=\"Open In Colab\"/></a>"
      ]
    },
    {
      "cell_type": "markdown",
      "source": [
        "##List\n",
        "** List is a collection of similar or different types of data items.\n",
        "\n",
        "** List is defined in square bracket\n",
        "\n",
        "** List is mutable in nature which means that elements in the list can be modified.\n",
        "\n",
        "** List allows duplicate values."
      ],
      "metadata": {
        "id": "FeiqYWiaohn2"
      }
    },
    {
      "cell_type": "code",
      "execution_count": 1,
      "metadata": {
        "colab": {
          "base_uri": "https://localhost:8080/"
        },
        "id": "KAeIKerEl68J",
        "outputId": "ff1b9410-4d23-4c3e-b708-db626355bc3a"
      },
      "outputs": [
        {
          "output_type": "execute_result",
          "data": {
            "text/plain": [
              "[1, 2, 'Sai', 4, 56, 5.7]"
            ]
          },
          "metadata": {},
          "execution_count": 1
        }
      ],
      "source": [
        "# Creating a list\n",
        "\n",
        "l1 = [1,2,\"Sai\", 4, 56, 5.7]\n",
        "l1"
      ]
    },
    {
      "cell_type": "code",
      "source": [
        "# Checking the data type\n",
        "type(l1)"
      ],
      "metadata": {
        "colab": {
          "base_uri": "https://localhost:8080/"
        },
        "id": "vcz7CYoJpWIz",
        "outputId": "3521c315-6b0d-4fa6-ea50-70be4f72d08f"
      },
      "execution_count": 2,
      "outputs": [
        {
          "output_type": "execute_result",
          "data": {
            "text/plain": [
              "list"
            ]
          },
          "metadata": {},
          "execution_count": 2
        }
      ]
    },
    {
      "cell_type": "code",
      "source": [
        "#Accessing the element through postive index\n",
        "print(l1[3])\n",
        "\n",
        "#Accessing the element through negative index\n",
        "print(l1[-1])"
      ],
      "metadata": {
        "colab": {
          "base_uri": "https://localhost:8080/"
        },
        "id": "YPtOkGNcpax_",
        "outputId": "4cf58f3f-fc8e-488f-bb7b-dd46f5749ab1"
      },
      "execution_count": 4,
      "outputs": [
        {
          "output_type": "stream",
          "name": "stdout",
          "text": [
            "4\n",
            "5.7\n"
          ]
        }
      ]
    },
    {
      "cell_type": "code",
      "source": [
        "#Checking the index position of elements in the list\n",
        "l1.index(56)"
      ],
      "metadata": {
        "colab": {
          "base_uri": "https://localhost:8080/"
        },
        "id": "-TwGL_Dwp-MZ",
        "outputId": "393ab0db-5007-44bd-d85a-d714b173e732"
      },
      "execution_count": 6,
      "outputs": [
        {
          "output_type": "execute_result",
          "data": {
            "text/plain": [
              "4"
            ]
          },
          "metadata": {},
          "execution_count": 6
        }
      ]
    },
    {
      "cell_type": "code",
      "source": [
        "#Counting the elements in the list\n",
        "len(l1)"
      ],
      "metadata": {
        "colab": {
          "base_uri": "https://localhost:8080/"
        },
        "id": "z9J-so9Rpy2a",
        "outputId": "3ea38a1c-85a3-432d-ce5e-d86175f3cb80"
      },
      "execution_count": 5,
      "outputs": [
        {
          "output_type": "execute_result",
          "data": {
            "text/plain": [
              "6"
            ]
          },
          "metadata": {},
          "execution_count": 5
        }
      ]
    },
    {
      "cell_type": "code",
      "source": [
        "#Adding elements to the list\n",
        "# Append function will always add the value at the last position of the list\n",
        "l1.append(\"Kumar\")\n",
        "l1"
      ],
      "metadata": {
        "colab": {
          "base_uri": "https://localhost:8080/"
        },
        "id": "CJoCuNqMp3Gm",
        "outputId": "8043392b-82b4-4be4-f8b3-78cb2f9f08a0"
      },
      "execution_count": 7,
      "outputs": [
        {
          "output_type": "execute_result",
          "data": {
            "text/plain": [
              "[1, 2, 'Sai', 4, 56, 5.7, 'Kumar']"
            ]
          },
          "metadata": {},
          "execution_count": 7
        }
      ]
    },
    {
      "cell_type": "code",
      "source": [
        "#Adding elements again to the list\n",
        "l1.append(\"Abi\")\n",
        "l1"
      ],
      "metadata": {
        "colab": {
          "base_uri": "https://localhost:8080/"
        },
        "id": "9-N6labbqN_Y",
        "outputId": "27fb4503-2d46-4121-9015-830b9310954c"
      },
      "execution_count": 8,
      "outputs": [
        {
          "output_type": "execute_result",
          "data": {
            "text/plain": [
              "[1, 2, 'Sai', 4, 56, 5.7, 'Kumar', 'Abi']"
            ]
          },
          "metadata": {},
          "execution_count": 8
        }
      ]
    },
    {
      "cell_type": "code",
      "source": [
        "#Adding the element at specific index position.\n",
        "#Insert takes 2 parameters. 1 is index position where you want to add\n",
        "# 2 is value you want to add to the list.\n",
        "l1.insert(2,\"Suresh\")\n",
        "l1\n",
        "\n",
        "#Adding the element through negative index\n",
        "l1.insert(-1,\"Mithran\")\n",
        "l1"
      ],
      "metadata": {
        "colab": {
          "base_uri": "https://localhost:8080/"
        },
        "id": "_g6YIWaIqeTs",
        "outputId": "fee9aace-e3be-4bca-af94-eea6175b1144"
      },
      "execution_count": 10,
      "outputs": [
        {
          "output_type": "execute_result",
          "data": {
            "text/plain": [
              "[1, 2, 'Suresh', 'Suresh', 'Sai', 4, 56, 5.7, 'Kumar', 'Mithran', 'Abi']"
            ]
          },
          "metadata": {},
          "execution_count": 10
        }
      ]
    },
    {
      "cell_type": "code",
      "source": [
        "#Extending the list. Merging 1 list with other.\n",
        "l2 = [4,6,7]\n",
        "l1.extend(l2)\n",
        "print(l1)\n",
        "print(l2)"
      ],
      "metadata": {
        "colab": {
          "base_uri": "https://localhost:8080/"
        },
        "id": "J9gOitPMrDoj",
        "outputId": "6eda6222-bd4a-47ca-8b00-94416f5136fb"
      },
      "execution_count": 14,
      "outputs": [
        {
          "output_type": "stream",
          "name": "stdout",
          "text": [
            "[1, 2, 'Suresh', 'Suresh', 'Sai', 4, 56, 5.7, 'Kumar', 'Mithran', 'Abi', 4, 6, 7, 4, 6, 7]\n",
            "[4, 6, 7]\n"
          ]
        }
      ]
    },
    {
      "cell_type": "code",
      "source": [
        "#Removing the element from the list\n",
        "l1.pop()\n",
        "\n",
        "# Pop command by default will remove the last element from the list.\n",
        "print(l1)"
      ],
      "metadata": {
        "colab": {
          "base_uri": "https://localhost:8080/"
        },
        "id": "iuMenngXr5sG",
        "outputId": "1ddea92a-a9f2-45f4-fbcf-32237d201bc0"
      },
      "execution_count": 16,
      "outputs": [
        {
          "output_type": "stream",
          "name": "stdout",
          "text": [
            "[1, 2, 'Suresh', 'Suresh', 'Sai', 4, 56, 5.7, 'Kumar', 'Mithran', 'Abi', 4, 6, 7, 4]\n"
          ]
        }
      ]
    },
    {
      "cell_type": "code",
      "source": [
        "# We can remove the specific index position value using Pop command\n",
        "# Mention tne index position of value inside the pop command\n",
        "l3 = [1,2,\"abc\", [2,5]]\n",
        "l3.pop(2)\n",
        "print(l3)"
      ],
      "metadata": {
        "colab": {
          "base_uri": "https://localhost:8080/"
        },
        "id": "CtzRKe9gr-C-",
        "outputId": "1695ad08-493e-485c-f865-b2eeef176b7c"
      },
      "execution_count": 19,
      "outputs": [
        {
          "output_type": "stream",
          "name": "stdout",
          "text": [
            "[1, 2, [2, 5]]\n"
          ]
        }
      ]
    },
    {
      "cell_type": "code",
      "source": [
        "# Removing the value directly by mentioning the value itself.\n",
        "# Removing the value not by index position\n",
        "l4 = [1,2,5,6,\"sai\", \"abc\"]\n",
        "l4.remove(\"abc\")\n",
        "print(l4)"
      ],
      "metadata": {
        "colab": {
          "base_uri": "https://localhost:8080/"
        },
        "id": "NVPoyUF8tPQk",
        "outputId": "849f58d6-9450-488d-e28c-a63343adc833"
      },
      "execution_count": 21,
      "outputs": [
        {
          "output_type": "stream",
          "name": "stdout",
          "text": [
            "[1, 2, 5, 6, 'sai']\n"
          ]
        }
      ]
    }
  ]
}