{
  "nbformat": 4,
  "nbformat_minor": 0,
  "metadata": {
    "colab": {
      "provenance": [],
      "authorship_tag": "ABX9TyMaTHABeOoEnEQZZ26R+tGh",
      "include_colab_link": true
    },
    "kernelspec": {
      "name": "python3",
      "display_name": "Python 3"
    },
    "language_info": {
      "name": "python"
    }
  },
  "cells": [
    {
      "cell_type": "markdown",
      "metadata": {
        "id": "view-in-github",
        "colab_type": "text"
      },
      "source": [
        "<a href=\"https://colab.research.google.com/github/sarkar2527/Scaler_Sai/blob/main/While%26For_loops.ipynb\" target=\"_parent\"><img src=\"https://colab.research.google.com/assets/colab-badge.svg\" alt=\"Open In Colab\"/></a>"
      ]
    },
    {
      "cell_type": "code",
      "source": [
        "i=0\n",
        "while i < 5:\n",
        "    if i%2 == 0:\n",
        "        print(i, end =\" \")\n",
        "    i = i +1"
      ],
      "metadata": {
        "colab": {
          "base_uri": "https://localhost:8080/"
        },
        "id": "y3qNfuDohTDR",
        "outputId": "b717e592-a890-49d4-868e-0ecf72bcaba3"
      },
      "execution_count": null,
      "outputs": [
        {
          "output_type": "stream",
          "name": "stdout",
          "text": [
            "0 2 4 "
          ]
        }
      ]
    },
    {
      "cell_type": "markdown",
      "source": [
        "Write a program to print all even numbers from 1 to N where you have to take N as input from the user.\n",
        "Note: Use while-loop OR for-loop, according to session flow.\n",
        "\n",
        "Note: You can use int(input()) for obtaining user input of number N."
      ],
      "metadata": {
        "id": "m9axedBpi1OR"
      }
    },
    {
      "cell_type": "code",
      "source": [
        "N = int(input())\n",
        "\n",
        "i =1\n",
        "while i <= N:\n",
        "    if i%2 == 0:\n",
        "        print(i, end =\" \")\n",
        "    i= i +1"
      ],
      "metadata": {
        "colab": {
          "base_uri": "https://localhost:8080/"
        },
        "id": "uj1n6_F6iz5Z",
        "outputId": "22f3acee-20ba-44b4-d44c-8bc38bcd898c"
      },
      "execution_count": null,
      "outputs": [
        {
          "output_type": "stream",
          "name": "stdout",
          "text": [
            "7\n",
            "2 4 6 "
          ]
        }
      ]
    },
    {
      "cell_type": "markdown",
      "source": [
        "Take an input of a number A from the user. Print all perfect squares less than or equal to A.\n",
        "Note - Perfect squares are integers whose square root is an integer. (For Example: 16 is perfect square as √16 = 4, or 42 = 16)\n",
        "Print perfect squares less than or equal to A in a single line in a space-separated manner.\n"
      ],
      "metadata": {
        "id": "Ot59XX6rmcY-"
      }
    },
    {
      "cell_type": "code",
      "source": [
        "A = int(input())\n",
        "i = 1\n",
        "\n",
        "while A >=i*i:\n",
        "    print(i*i, end =\" \")\n",
        "    i= i+1"
      ],
      "metadata": {
        "colab": {
          "base_uri": "https://localhost:8080/"
        },
        "id": "4pTLFXgFjfg5",
        "outputId": "1285cfe6-cf69-4317-eab3-e36941c78b08"
      },
      "execution_count": null,
      "outputs": [
        {
          "output_type": "stream",
          "name": "stdout",
          "text": [
            "20\n",
            "1 4 9 16 "
          ]
        }
      ]
    },
    {
      "cell_type": "markdown",
      "source": [
        "Enter how numbers you want and count the disgits of the number"
      ],
      "metadata": {
        "id": "oRvNaGm10Slv"
      }
    },
    {
      "cell_type": "code",
      "source": [
        "T = int(input())\n",
        "\n",
        "for i in range (T):\n",
        "    N=int(input())\n",
        "    print(len(str(N)))"
      ],
      "metadata": {
        "colab": {
          "base_uri": "https://localhost:8080/"
        },
        "id": "GsFlG-HLonlz",
        "outputId": "68608b95-3156-4a12-fc44-2a0294163ccc"
      },
      "execution_count": null,
      "outputs": [
        {
          "output_type": "stream",
          "name": "stdout",
          "text": [
            "2\n",
            "100\n",
            "3\n",
            "200000\n",
            "6\n"
          ]
        }
      ]
    },
    {
      "cell_type": "code",
      "source": [
        "a = int(input())\n",
        "\n",
        "if a <=500 and (((a % 500) %200)) ==0:\n",
        "  print(\"Discharge cash\")\n",
        "elif a>500 and (((a%500)%200)%100) ==0:\n",
        "  print(\"Withdraw Cash\")\n",
        "else:\n",
        "  print(\"No Denomination available for the amount\")"
      ],
      "metadata": {
        "colab": {
          "base_uri": "https://localhost:8080/"
        },
        "id": "ZxSglB8ztSyP",
        "outputId": "77e25777-3c9c-480a-aca6-dd338341998d"
      },
      "execution_count": null,
      "outputs": [
        {
          "output_type": "stream",
          "name": "stdout",
          "text": [
            "12350\n",
            "No Denomination available for the amount\n"
          ]
        }
      ]
    },
    {
      "cell_type": "code",
      "source": [
        "n = int(input())\n",
        "\n",
        "print(\"*\" * n)"
      ],
      "metadata": {
        "colab": {
          "base_uri": "https://localhost:8080/"
        },
        "id": "oKqP4VedwIZ2",
        "outputId": "6f6c60bf-9c17-4180-ccab-5e896f8b579c"
      },
      "execution_count": null,
      "outputs": [
        {
          "output_type": "stream",
          "name": "stdout",
          "text": [
            "2\n",
            "**\n"
          ]
        }
      ]
    },
    {
      "cell_type": "markdown",
      "source": [
        "Get the input from the user, print all the number divisible by 4 with in that input"
      ],
      "metadata": {
        "id": "t3FcjyXk0g7x"
      }
    },
    {
      "cell_type": "code",
      "source": [
        "n = int(input())\n",
        "\n",
        "i =1\n",
        "\n",
        "while i<n:\n",
        "    if i%4==0:\n",
        "        print(i, end =\" \")\n",
        "    i =i+1"
      ],
      "metadata": {
        "colab": {
          "base_uri": "https://localhost:8080/"
        },
        "id": "k9xShfiCx4JW",
        "outputId": "313cf595-380e-49b2-e949-fa83268d39b2"
      },
      "execution_count": null,
      "outputs": [
        {
          "output_type": "stream",
          "name": "stdout",
          "text": [
            "22\n",
            "4 8 12 16 20 "
          ]
        }
      ]
    },
    {
      "cell_type": "markdown",
      "source": [
        "Write a program to find sum all Natural numbers from 1 to N where you have to take N as input from user\n",
        "\n"
      ],
      "metadata": {
        "id": "wE_4yv2f0voM"
      }
    },
    {
      "cell_type": "code",
      "source": [
        "n=int(input())\n",
        "sum=0\n",
        "i=1\n",
        "while i<=n:\n",
        "    sum=sum+i\n",
        "    i+=1\n",
        "print(sum)"
      ],
      "metadata": {
        "colab": {
          "base_uri": "https://localhost:8080/"
        },
        "id": "aZ5z70JvzZ25",
        "outputId": "634e90db-1c18-4aab-a24a-9a0ec6caba32"
      },
      "execution_count": 38,
      "outputs": [
        {
          "output_type": "stream",
          "name": "stdout",
          "text": [
            "10\n",
            "55\n"
          ]
        }
      ]
    }
  ]
}