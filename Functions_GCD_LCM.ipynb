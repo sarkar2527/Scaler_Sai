{
  "nbformat": 4,
  "nbformat_minor": 0,
  "metadata": {
    "colab": {
      "provenance": [],
      "authorship_tag": "ABX9TyMns9Au9pETihyfIPVOuR9X",
      "include_colab_link": true
    },
    "kernelspec": {
      "name": "python3",
      "display_name": "Python 3"
    },
    "language_info": {
      "name": "python"
    }
  },
  "cells": [
    {
      "cell_type": "markdown",
      "metadata": {
        "id": "view-in-github",
        "colab_type": "text"
      },
      "source": [
        "<a href=\"https://colab.research.google.com/github/sarkar2527/Scaler_Sai/blob/main/Functions_GCD_LCM.ipynb\" target=\"_parent\"><img src=\"https://colab.research.google.com/assets/colab-badge.svg\" alt=\"Open In Colab\"/></a>"
      ]
    },
    {
      "cell_type": "markdown",
      "source": [
        "## Program to find the GCD. Greatest Common Divisor"
      ],
      "metadata": {
        "id": "ike2QHu0is4m"
      }
    },
    {
      "cell_type": "code",
      "source": [
        "A = int(input(\"Enter the first number: \"))\n",
        "B = int(input(\"Enter the second number: \"))\n",
        "\n",
        "X = min(A,B)\n",
        "\n",
        "for i in range(X,0,-1):\n",
        "  if A%i == 0 and B%i == 0:\n",
        "    print(\"The GCD is: \",i)\n",
        "    break"
      ],
      "metadata": {
        "colab": {
          "base_uri": "https://localhost:8080/"
        },
        "id": "HrSYPtf5i2e7",
        "outputId": "a08ed9e7-10cc-402f-fd0c-21542107c111"
      },
      "execution_count": 2,
      "outputs": [
        {
          "output_type": "stream",
          "name": "stdout",
          "text": [
            "Enter the first number: 16\n",
            "Enter the second number: 24\n",
            "The GCD is:  8\n"
          ]
        }
      ]
    },
    {
      "cell_type": "markdown",
      "source": [
        "## Program to find the LCM. Least Common Multiplier"
      ],
      "metadata": {
        "id": "Opm0PK9yl_gc"
      }
    },
    {
      "cell_type": "code",
      "source": [
        "A = int(input(\"Enter the first number: \"))\n",
        "B = int(input(\"Enter the second number: \"))\n",
        "\n",
        "X = max(A,B)\n",
        "\n",
        "while True:\n",
        "  if X%A == 0 and X%B == 0:\n",
        "    print(\"The LCM is: \",X)\n",
        "    break\n",
        "  X += 1"
      ],
      "metadata": {
        "colab": {
          "base_uri": "https://localhost:8080/"
        },
        "id": "uX279KdSmKJ9",
        "outputId": "dd741be5-b63a-4234-9247-fa4d6ed372c9"
      },
      "execution_count": 3,
      "outputs": [
        {
          "output_type": "stream",
          "name": "stdout",
          "text": [
            "Enter the first number: 4\n",
            "Enter the second number: 8\n",
            "The LCM is:  8\n"
          ]
        }
      ]
    },
    {
      "cell_type": "markdown",
      "source": [
        "##Program to find top 3 LCM. Least Common Multiplier"
      ],
      "metadata": {
        "id": "f-xOQk9Nmkkp"
      }
    },
    {
      "cell_type": "code",
      "source": [
        "from typing import Counter\n",
        "A = int(input(\"Enter the first number: \"))\n",
        "B = int(input(\"Enter the second number: \"))\n",
        "\n",
        "X = max(A,B)\n",
        "\n",
        "Counter =0\n",
        "while True:\n",
        "  if X%A == 0 and X%B == 0:\n",
        "    Counter += 1\n",
        "    print(\"The top 3 LCM are : \",X)\n",
        "    if Counter == 3:\n",
        "      break\n",
        "  X += 1"
      ],
      "metadata": {
        "colab": {
          "base_uri": "https://localhost:8080/"
        },
        "id": "OzDTr7NWms0y",
        "outputId": "c1dcf903-4801-4683-fb15-459c0c002649"
      },
      "execution_count": 8,
      "outputs": [
        {
          "output_type": "stream",
          "name": "stdout",
          "text": [
            "Enter the first number: 4\n",
            "Enter the second number: 8\n",
            "The top 3 LCM are :  8\n",
            "The top 3 LCM are :  16\n",
            "The top 3 LCM are :  24\n"
          ]
        }
      ]
    },
    {
      "cell_type": "markdown",
      "source": [
        "## Functions\n",
        "Specific block of code to do certain task called function. If I want to use the\n",
        "same function again anywhere in the code, I don't need to write the entire code\n",
        "rather calling function is more than sufficient."
      ],
      "metadata": {
        "id": "KMPlHOwnq5mX"
      }
    },
    {
      "cell_type": "code",
      "source": [
        "#Function Definition\n",
        "def first_function():\n",
        "  print(\"Hello Sai\")"
      ],
      "metadata": {
        "id": "DAYGEzN_racz"
      },
      "execution_count": 9,
      "outputs": []
    },
    {
      "cell_type": "code",
      "source": [
        "#Calling the function using the function name\n",
        "first_function()"
      ],
      "metadata": {
        "colab": {
          "base_uri": "https://localhost:8080/"
        },
        "id": "fFmgTjgMrmt9",
        "outputId": "8f87763a-e9e4-4e33-9e60-8eedeb33622e"
      },
      "execution_count": 10,
      "outputs": [
        {
          "output_type": "stream",
          "name": "stdout",
          "text": [
            "Hello Sai\n"
          ]
        }
      ]
    },
    {
      "cell_type": "code",
      "source": [
        "for i in range(5):\n",
        "  print(\"Hello Sai\")"
      ],
      "metadata": {
        "colab": {
          "base_uri": "https://localhost:8080/"
        },
        "id": "7DH2KGSarvS7",
        "outputId": "0f909daf-f3e4-4157-a748-cc5b15e38d51"
      },
      "execution_count": 11,
      "outputs": [
        {
          "output_type": "stream",
          "name": "stdout",
          "text": [
            "Hello Sai\n",
            "Hello Sai\n",
            "Hello Sai\n",
            "Hello Sai\n",
            "Hello Sai\n"
          ]
        }
      ]
    },
    {
      "cell_type": "code",
      "source": [
        "#My first function got executed 5 times because of for loop\n",
        "for i in range(5):\n",
        "  first_function()"
      ],
      "metadata": {
        "colab": {
          "base_uri": "https://localhost:8080/"
        },
        "id": "z72pb8VPr0GO",
        "outputId": "2a8c63f4-1ec0-4956-fe0b-43b53a9f987c"
      },
      "execution_count": 13,
      "outputs": [
        {
          "output_type": "stream",
          "name": "stdout",
          "text": [
            "Hello Sai\n",
            "Hello Sai\n",
            "Hello Sai\n",
            "Hello Sai\n",
            "Hello Sai\n"
          ]
        }
      ]
    },
    {
      "cell_type": "markdown",
      "source": [
        "##Function with parameter"
      ],
      "metadata": {
        "id": "lNSn4zhnuw_a"
      }
    },
    {
      "cell_type": "code",
      "source": [
        "def door_knock(name):\n",
        "  print(\"Knock Knock\",name)"
      ],
      "metadata": {
        "id": "odmFDTmau0lm"
      },
      "execution_count": 14,
      "outputs": []
    },
    {
      "cell_type": "code",
      "source": [
        "door_knock(\"Sai\")"
      ],
      "metadata": {
        "colab": {
          "base_uri": "https://localhost:8080/"
        },
        "id": "_h-nWUqovKw8",
        "outputId": "a919c787-b6a4-4a49-f8a9-f25463d08997"
      },
      "execution_count": 15,
      "outputs": [
        {
          "output_type": "stream",
          "name": "stdout",
          "text": [
            "Knock Knock Sai\n"
          ]
        }
      ]
    },
    {
      "cell_type": "code",
      "source": [
        "def door_knock1(name):\n",
        "  print(\"Knock Knock\",name)\n",
        "\n",
        "name = input(\"Enter the name\")\n",
        "door_knock1(name)"
      ],
      "metadata": {
        "colab": {
          "base_uri": "https://localhost:8080/"
        },
        "id": "QknWXKf6vOSu",
        "outputId": "13855990-ec52-467d-fdf8-842c20359658"
      },
      "execution_count": 21,
      "outputs": [
        {
          "output_type": "stream",
          "name": "stdout",
          "text": [
            "Enter the nameABi\n",
            "Knock Knock ABi\n"
          ]
        }
      ]
    },
    {
      "cell_type": "markdown",
      "source": [
        "##Function Multiple Parameters"
      ],
      "metadata": {
        "id": "hEpf8w5-eXnh"
      }
    },
    {
      "cell_type": "code",
      "source": [
        "def family(mother,father):\n",
        "  print(\"My mother is\",mother)\n",
        "  print(\"My father is\",father)"
      ],
      "metadata": {
        "id": "n6jqo4ireXOv"
      },
      "execution_count": 1,
      "outputs": []
    },
    {
      "cell_type": "code",
      "source": [
        "family(\"latha\",\"karna\")"
      ],
      "metadata": {
        "colab": {
          "base_uri": "https://localhost:8080/"
        },
        "id": "tHuVIciMekRL",
        "outputId": "13f5fb07-bf17-42f6-fd00-3b80e17cfe71"
      },
      "execution_count": 2,
      "outputs": [
        {
          "output_type": "stream",
          "name": "stdout",
          "text": [
            "My mother is latha\n",
            "My father is karna\n"
          ]
        }
      ]
    }
  ]
}