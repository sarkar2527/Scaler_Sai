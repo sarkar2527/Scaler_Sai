{
  "nbformat": 4,
  "nbformat_minor": 0,
  "metadata": {
    "colab": {
      "provenance": [],
      "include_colab_link": true
    },
    "kernelspec": {
      "name": "python3",
      "display_name": "Python 3"
    },
    "language_info": {
      "name": "python"
    }
  },
  "cells": [
    {
      "cell_type": "markdown",
      "metadata": {
        "id": "view-in-github",
        "colab_type": "text"
      },
      "source": [
        "<a href=\"https://colab.research.google.com/github/sarkar2527/Scaler_Sai/blob/main/lecture3_control_statement_liveclass.ipynb\" target=\"_parent\"><img src=\"https://colab.research.google.com/assets/colab-badge.svg\" alt=\"Open In Colab\"/></a>"
      ]
    },
    {
      "cell_type": "code",
      "execution_count": null,
      "metadata": {
        "id": "_wgagcYyhyoc"
      },
      "outputs": [],
      "source": [
        "rainy_input = \"Sunny\"\n",
        "\n",
        "if rainy_input == \"Rainy\": #False\n",
        "  print(\"No Ice-cream\")"
      ]
    },
    {
      "cell_type": "code",
      "source": [
        "if 56 > 32: #True\n",
        "  print(\"Yes, its true\")\n",
        "  print(\"Yes, 56 is greater than 32\")\n",
        "  print(\"hello world\")"
      ],
      "metadata": {
        "colab": {
          "base_uri": "https://localhost:8080/"
        },
        "id": "r2g2ZvpysyC8",
        "outputId": "9bbcc8d3-75d4-460d-c913-2b0d0cc22ae2"
      },
      "execution_count": null,
      "outputs": [
        {
          "output_type": "stream",
          "name": "stdout",
          "text": [
            "Yes, its true\n",
            "Yes, 56 is greater than 32\n",
            "hello world\n"
          ]
        }
      ]
    },
    {
      "cell_type": "code",
      "source": [
        "if 5 > 2:\n",
        "  print(\"Five is greater than two\")\n",
        "  print(\"5 is > than 2\")\n",
        "\n",
        "print(\"3456\")"
      ],
      "metadata": {
        "colab": {
          "base_uri": "https://localhost:8080/"
        },
        "id": "LMSfNnNqtTWq",
        "outputId": "89189efa-6746-4680-c261-1e9200a66b66"
      },
      "execution_count": null,
      "outputs": [
        {
          "output_type": "stream",
          "name": "stdout",
          "text": [
            "Five is greater than two\n",
            "5 is > than 2\n",
            "3456\n"
          ]
        }
      ]
    },
    {
      "cell_type": "code",
      "source": [
        "if 5 > 50:\n",
        "  print(\"1\")\n",
        "  print(\"2\")\n",
        "\n",
        "print(\"3\")"
      ],
      "metadata": {
        "colab": {
          "base_uri": "https://localhost:8080/"
        },
        "id": "cspj-Nwwt6yQ",
        "outputId": "a31b1db3-de0a-4320-fa2a-eacc502f1f5c"
      },
      "execution_count": null,
      "outputs": [
        {
          "output_type": "stream",
          "name": "stdout",
          "text": [
            "3\n"
          ]
        }
      ]
    },
    {
      "cell_type": "code",
      "source": [
        "x = 10.1\n",
        "\n",
        "if x > 10: #True\n",
        "  print(x)\n",
        "\n",
        "\n",
        "print(\"Value of x is 10\")"
      ],
      "metadata": {
        "colab": {
          "base_uri": "https://localhost:8080/"
        },
        "id": "TyxVjF2puZxw",
        "outputId": "62e4a0c5-00eb-47e9-d35d-d09ad121bc24"
      },
      "execution_count": null,
      "outputs": [
        {
          "output_type": "stream",
          "name": "stdout",
          "text": [
            "10.1\n",
            "Value of x is 10\n"
          ]
        }
      ]
    },
    {
      "cell_type": "code",
      "source": [
        "x = 1999\n",
        "\n",
        "if True: #True\n",
        "  print(x)\n",
        "\n",
        "\n",
        "print(\"Value of x is 10\")"
      ],
      "metadata": {
        "colab": {
          "base_uri": "https://localhost:8080/"
        },
        "id": "LdhyXW_xu3gf",
        "outputId": "2a4fa996-f871-4a7c-c763-a09186db49fa"
      },
      "execution_count": null,
      "outputs": [
        {
          "output_type": "stream",
          "name": "stdout",
          "text": [
            "1999\n",
            "Value of x is 10\n"
          ]
        }
      ]
    },
    {
      "cell_type": "code",
      "source": [
        "x = 0\n",
        "\n",
        "if False: #False\n",
        "  print(x)\n",
        "\n",
        "\n",
        "print(\"Value of x is 10\")"
      ],
      "metadata": {
        "colab": {
          "base_uri": "https://localhost:8080/"
        },
        "id": "2LbJs5vFwfnI",
        "outputId": "2d0a2ce1-d1a1-415d-ffb8-61c12593e051"
      },
      "execution_count": null,
      "outputs": [
        {
          "output_type": "stream",
          "name": "stdout",
          "text": [
            "Value of x is 10\n"
          ]
        }
      ]
    },
    {
      "cell_type": "markdown",
      "source": [
        "## IF else block"
      ],
      "metadata": {
        "id": "pC4ladcXxEey"
      }
    },
    {
      "cell_type": "code",
      "source": [
        "a = 2\n",
        "result = a ** 5\n",
        "\n",
        "if result > 25:\n",
        "  print(\"This is massive\")\n",
        "\n",
        "else:\n",
        "  print(\"This is small\")\n",
        "\n",
        "print(\"complete\")"
      ],
      "metadata": {
        "colab": {
          "base_uri": "https://localhost:8080/"
        },
        "id": "YVyIdOAuw0fn",
        "outputId": "fbac3772-ba37-4712-c89a-996833fd2154"
      },
      "execution_count": null,
      "outputs": [
        {
          "output_type": "stream",
          "name": "stdout",
          "text": [
            "This is massive\n",
            "complete\n"
          ]
        }
      ]
    },
    {
      "cell_type": "code",
      "source": [
        "## Password example\n",
        "\n",
        "original_password = \"abc123\"\n",
        "password_input = input(\"Enter the password\")\n",
        "\n",
        "if original_password == password_input:\n",
        "              print(\"Password is correct\")\n",
        "\n",
        "else:\n",
        "  print(\"Password is incorrect\")\n",
        "  print(\"Please try again\")"
      ],
      "metadata": {
        "colab": {
          "base_uri": "https://localhost:8080/"
        },
        "id": "vvVdtulGx3-V",
        "outputId": "67490e5d-61de-401d-e0e2-269dafde7272"
      },
      "execution_count": null,
      "outputs": [
        {
          "output_type": "stream",
          "name": "stdout",
          "text": [
            "Enter the passwordabc123\n",
            "Password is correct\n"
          ]
        }
      ]
    },
    {
      "cell_type": "code",
      "source": [
        "if (12 > 30) or (100 > 10):\n",
        "  print(\"yes\")"
      ],
      "metadata": {
        "colab": {
          "base_uri": "https://localhost:8080/"
        },
        "id": "CUNHhOiFyRCd",
        "outputId": "6d235beb-ef7b-4f7a-9760-ea7e4245fcdf"
      },
      "execution_count": null,
      "outputs": [
        {
          "output_type": "stream",
          "name": "stdout",
          "text": [
            "yes\n"
          ]
        }
      ]
    },
    {
      "cell_type": "markdown",
      "source": [
        "## Time input Greeting output"
      ],
      "metadata": {
        "id": "FXHJvGy90w-9"
      }
    },
    {
      "cell_type": "code",
      "source": [
        "time = int(input(\"Enter the time\"))\n",
        "\n",
        "\n",
        "if (time > 9) and (time <= 12):\n",
        "  print(\"Good Morning\")\n",
        "\n",
        "else:\n",
        "  if (time > 12) and (time <= 17):\n",
        "    print(\"Good Afternoon\")\n",
        "\n",
        "  else:\n",
        "     if (time > 17) and (time <= 20):\n",
        "       print(\"Good Evening\")\n",
        "\n",
        "     else:\n",
        "      print(\"Good Night\")\n"
      ],
      "metadata": {
        "colab": {
          "base_uri": "https://localhost:8080/"
        },
        "id": "M76NTgVt0hmF",
        "outputId": "f4eb8d9b-e452-47ef-8dda-434c839055d8"
      },
      "execution_count": null,
      "outputs": [
        {
          "output_type": "stream",
          "name": "stdout",
          "text": [
            "Enter the time13\n",
            "Good Afternoon\n"
          ]
        }
      ]
    },
    {
      "cell_type": "markdown",
      "source": [
        "## Quiz 1\n",
        "\n",
        "What will be the output?"
      ],
      "metadata": {
        "id": "GAdlvDOu4Sab"
      }
    },
    {
      "cell_type": "code",
      "source": [
        "x = 5\n",
        "if x > 10:\n",
        "    print(\"Hello\")\n",
        "else:\n",
        "    print(\"World\")"
      ],
      "metadata": {
        "colab": {
          "base_uri": "https://localhost:8080/"
        },
        "id": "OrEPXWMb1B1_",
        "outputId": "c2e6b4f0-5946-4755-e393-b51b8a2baac3"
      },
      "execution_count": null,
      "outputs": [
        {
          "output_type": "stream",
          "name": "stdout",
          "text": [
            "World\n"
          ]
        }
      ]
    },
    {
      "cell_type": "markdown",
      "source": [
        "## Quiz 2\n",
        "\n",
        "What will be the output?\n"
      ],
      "metadata": {
        "id": "hOns9PnF40ry"
      }
    },
    {
      "cell_type": "code",
      "source": [
        "x = 0\n",
        "if x:\n",
        "    print(\"True\")\n",
        "else:\n",
        "    print(\"False\")"
      ],
      "metadata": {
        "colab": {
          "base_uri": "https://localhost:8080/"
        },
        "id": "ZjTFF39J4sMP",
        "outputId": "cb304ef8-5f96-4184-ce12-95e12059bb62"
      },
      "execution_count": null,
      "outputs": [
        {
          "output_type": "stream",
          "name": "stdout",
          "text": [
            "False\n"
          ]
        }
      ]
    },
    {
      "cell_type": "code",
      "source": [
        "x = 0\n",
        "if x:\n",
        "    print(\"True\")\n",
        "else:\n",
        "    print(\"False\")"
      ],
      "metadata": {
        "colab": {
          "base_uri": "https://localhost:8080/"
        },
        "id": "pJYPM2ac5Qmr",
        "outputId": "9d8f01d3-b0ce-49c1-993e-adcacb64e789"
      },
      "execution_count": null,
      "outputs": [
        {
          "output_type": "stream",
          "name": "stdout",
          "text": [
            "False\n"
          ]
        }
      ]
    },
    {
      "cell_type": "markdown",
      "source": [
        "## ELIF Block"
      ],
      "metadata": {
        "id": "lUhDA_2Y6CED"
      }
    },
    {
      "cell_type": "code",
      "source": [
        "# if condition1:\n",
        "#   this\n",
        "# elif condition2:\n",
        "#   this\n",
        "# else:\n",
        "#   this"
      ],
      "metadata": {
        "id": "VgJGp9NV5Zxu"
      },
      "execution_count": null,
      "outputs": []
    },
    {
      "cell_type": "code",
      "source": [
        "time = int(input())\n",
        "\n",
        "if time >= 1 and time <= 24:\n",
        "  print(\"Valid time\")\n",
        "\n",
        "  if time > 9 and time <= 12:\n",
        "    print(\"Good morning\")\n",
        "\n",
        "  elif time > 12 and time <= 17:\n",
        "    print(\"Good afternoon\")\n",
        "\n",
        "  elif (time > 17 and time <= 20):\n",
        "    print(\"Good evening\")\n",
        "\n",
        "  else:\n",
        "    print(\"Good night\")\n",
        "\n",
        "else:\n",
        "  print(\"Invalid time\")\n",
        "\n",
        "\n"
      ],
      "metadata": {
        "colab": {
          "base_uri": "https://localhost:8080/"
        },
        "id": "eNu1YAmf6PoE",
        "outputId": "346b9c2c-58a2-4203-c374-0fd2b157d4cc"
      },
      "execution_count": null,
      "outputs": [
        {
          "output_type": "stream",
          "name": "stdout",
          "text": [
            "67\n",
            "Invalid time\n"
          ]
        }
      ]
    },
    {
      "cell_type": "markdown",
      "source": [
        "PRACTICE PRACTICE PRACTICE"
      ],
      "metadata": {
        "id": "1BnZpbhO9SaE"
      }
    },
    {
      "cell_type": "code",
      "source": [
        "## Not Recommended.\n",
        "\n",
        "time = int(input())\n",
        "\n",
        "if time > 9 and time <= 12:\n",
        "  print(\"Good morning\")\n",
        "\n",
        "if time > 12 and time <= 17:\n",
        "  print(\"Good afternoon\")\n",
        "\n",
        "if (time > 17 and time <= 20):\n",
        "  print(\"Good evening\")\n",
        "\n",
        "if (time > 20):\n",
        "  print(\"Good night\")\n",
        "\n",
        "if (time > 20):\n",
        "  print(\"Good night\")\n",
        "\n",
        "if (time > 20 and time > 1):\n",
        "  print(\"Good night\")"
      ],
      "metadata": {
        "colab": {
          "base_uri": "https://localhost:8080/"
        },
        "id": "3LuADVvc7PJH",
        "outputId": "c5a14a50-e80e-4bbf-b610-5ad21cc23c8f"
      },
      "execution_count": null,
      "outputs": [
        {
          "output_type": "stream",
          "name": "stdout",
          "text": [
            "23\n",
            "Good night\n",
            "Good night\n",
            "Good night\n"
          ]
        }
      ]
    },
    {
      "cell_type": "markdown",
      "source": [
        "## Quiz 3\n",
        "\n",
        "What will be the output of this code?"
      ],
      "metadata": {
        "id": "wrf8CoRb-sSF"
      }
    },
    {
      "cell_type": "code",
      "source": [
        "x = 12\n",
        "if x > 2:\n",
        "    if x < 10:\n",
        "        print(\"x is between 2 and 10\")\n",
        "    else:\n",
        "        print(\"x is greater than or equal to 10\")\n",
        "else:\n",
        "  print(\"x is less than or equal to 2\")"
      ],
      "metadata": {
        "colab": {
          "base_uri": "https://localhost:8080/"
        },
        "id": "StFGdHhO98GJ",
        "outputId": "ed548d1d-0d3c-4927-dd1f-5a1b4e385414"
      },
      "execution_count": null,
      "outputs": [
        {
          "output_type": "stream",
          "name": "stdout",
          "text": [
            "x is greater than or equal to 10\n"
          ]
        }
      ]
    },
    {
      "cell_type": "markdown",
      "source": [
        "## Quiz 4\n",
        "\n",
        "What will be the output?"
      ],
      "metadata": {
        "id": "lXq-RAHR_pp1"
      }
    },
    {
      "cell_type": "code",
      "source": [
        "age = 15\n",
        "if age < 18:\n",
        "    print(\"You are not eligible to vote\")\n",
        "elif age >= 18 and age < 21:\n",
        "    print(\"You can vote but can't drink\")\n",
        "else:\n",
        "    print(\"You can vote and drink\")"
      ],
      "metadata": {
        "colab": {
          "base_uri": "https://localhost:8080/"
        },
        "id": "fKRdCiEy_Hl9",
        "outputId": "c907742d-021c-47c5-d3f8-8d4db0e31f2b"
      },
      "execution_count": null,
      "outputs": [
        {
          "output_type": "stream",
          "name": "stdout",
          "text": [
            "You are not eligible to vote\n"
          ]
        }
      ]
    },
    {
      "cell_type": "markdown",
      "source": [
        "## Homework\n",
        "\n",
        "1) Solve the time to greeting question, by taking both hour and minute as input.\n",
        "\n",
        "2) Write a program that takes a year as input and checks if it is a leap year.\n",
        "\n",
        "3)Write a program that takes a student’s marks as input and prints their grade based on the following conditions:\n",
        "- 90 and above → \"A\"\n",
        "- 80 to 89 → \"B\"\n",
        "- 70 to 79 → \"C\"\n",
        "- 60 to 69 → \"D\"\n",
        "- Below 60 → \"F\"\n",
        "\n",
        "4) Write a Python program that takes three numbers as input and prints the largest one.\n",
        "\n",
        "5) Write a program that takes the color of a traffic light as input (red, yellow, or green) and prints:\n",
        "- \"Stop\" if the light is red\n",
        "- \"Slow Down\" if the light is yellow\n",
        "- \"Go\" if the light is green\n",
        "\n",
        "6) Medium Level Question: ATM Dispatch\n",
        "Only Rs. 500 and Rs. 200 notes are available.\n",
        "Take an amount as input from user\n",
        "if amount is dischargeable, print(\"Discharging cash\")\n",
        "else, print(\"Denomination not available\")\n",
        "\n",
        "Try for these example, 1200, 500, 1700\n"
      ],
      "metadata": {
        "id": "OhW5vgnt-UYk"
      }
    },
    {
      "cell_type": "code",
      "source": [],
      "metadata": {
        "id": "nf0w7xHGADN9"
      },
      "execution_count": null,
      "outputs": []
    },
    {
      "cell_type": "code",
      "source": [],
      "metadata": {
        "id": "DVHTYhkO-PLw"
      },
      "execution_count": null,
      "outputs": []
    }
  ]
}