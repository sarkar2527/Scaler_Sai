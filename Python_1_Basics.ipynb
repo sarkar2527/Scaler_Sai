{
  "nbformat": 4,
  "nbformat_minor": 0,
  "metadata": {
    "colab": {
      "provenance": [],
      "authorship_tag": "ABX9TyMnbDOEQgYPUJLVHQjLvpZc",
      "include_colab_link": true
    },
    "kernelspec": {
      "name": "python3",
      "display_name": "Python 3"
    },
    "language_info": {
      "name": "python"
    }
  },
  "cells": [
    {
      "cell_type": "markdown",
      "metadata": {
        "id": "view-in-github",
        "colab_type": "text"
      },
      "source": [
        "<a href=\"https://colab.research.google.com/github/sarkar2527/Scaler_Sai/blob/main/Python_1_Basics.ipynb\" target=\"_parent\"><img src=\"https://colab.research.google.com/assets/colab-badge.svg\" alt=\"Open In Colab\"/></a>"
      ]
    },
    {
      "cell_type": "markdown",
      "source": [
        "#ScalerDay 28_Python_Day 01_21-Jan-2025"
      ],
      "metadata": {
        "id": "ORS7Na0VysA_"
      }
    },
    {
      "cell_type": "code",
      "source": [
        "#Take a name A as input from the user and print \"Hello A\", where A is the name in input.\n",
        "A = input()\n",
        "print(\"Hello\", A)"
      ],
      "metadata": {
        "colab": {
          "base_uri": "https://localhost:8080/"
        },
        "id": "y-GEw3QBywVj",
        "outputId": "fc2f27f2-4d41-46ca-cd78-77ba5fa01d95"
      },
      "execution_count": 3,
      "outputs": [
        {
          "output_type": "stream",
          "name": "stdout",
          "text": [
            "Sai\n",
            "Hello Sai\n"
          ]
        }
      ]
    },
    {
      "cell_type": "code",
      "source": [
        "#Print the output of 6+3, 6-3, 6*3, 6/3 in separate lines.\n",
        "\n",
        "print(6+3, 6-3, 6*3, 6/3, sep = \"\\n\") #sep =\"\\n\" - it will print everything in new line"
      ],
      "metadata": {
        "colab": {
          "base_uri": "https://localhost:8080/"
        },
        "id": "tnuusOaqz1J-",
        "outputId": "4f383b4c-3d53-428a-e0ad-a363aa35e5a4"
      },
      "execution_count": 4,
      "outputs": [
        {
          "output_type": "stream",
          "name": "stdout",
          "text": [
            "9\n",
            "3\n",
            "18\n",
            "2.0\n"
          ]
        }
      ]
    },
    {
      "cell_type": "code",
      "source": [
        "'''Your friend Rahul plans to visit exotic countries all around the world. Sadly, Rahul's math skills aren't good enough.\n",
        "Take the amount of money Rahul has before the currency exchange and the amount of money that is spent from his savings as input,\n",
        "print the amount of money that remains in his savings after the currency exchange '''\n",
        "\n",
        "money_before_exchange = int(input())\n",
        "money_spent = int(input())\n",
        "print(money_before_exchange - money_spent)"
      ],
      "metadata": {
        "colab": {
          "base_uri": "https://localhost:8080/"
        },
        "id": "fqCj4OIRz2yn",
        "outputId": "fc3b9d21-d8f8-4dfe-eb73-a3ea76a35cf3"
      },
      "execution_count": 5,
      "outputs": [
        {
          "output_type": "stream",
          "name": "stdout",
          "text": [
            "100\n",
            "10\n",
            "90\n"
          ]
        }
      ]
    },
    {
      "cell_type": "code",
      "source": [
        "#Take two names A and B as input from the user, print \"A says Hi to B\" (Without quotations), where A and B are the names in input.\n",
        "\n",
        "A = input()\n",
        "b = input()\n",
        "\n",
        "print(A, \"says Hi to\", b)"
      ],
      "metadata": {
        "colab": {
          "base_uri": "https://localhost:8080/"
        },
        "id": "1OhpKoeO0uIe",
        "outputId": "5aa0e421-a65c-4adb-a852-90693254e610"
      },
      "execution_count": 10,
      "outputs": [
        {
          "output_type": "stream",
          "name": "stdout",
          "text": [
            "sai\n",
            "abi\n",
            "sai says Hi to abi\n",
            "f{A} says Hi to {B}\n"
          ]
        }
      ]
    },
    {
      "cell_type": "code",
      "source": [
        "'''You wrote some code to help you cook a gorgeous lasagna from your favorite cookbook.\n",
        "Now, you want to find the total number of minutes you've been cooking for the sum of your preparation time and the time the lasagna has already spent baking in the oven.\n",
        "The preparation time of one layer is 2 minutes.\n",
        "Given the number of layers added to the lasagna and the number of minutes the lasagna has been baking in the oven,\n",
        "find the total elapsed cooking time (prep + bake) in minutes '''\n",
        "\n",
        "N = 2\n",
        "\n",
        "cooking_time = int(input())\n",
        "preptime = N * cooking_time\n",
        "\n",
        "baketime = int(input())\n",
        "\n",
        "total_time = preptime + baketime\n",
        "\n",
        "print(total_time)\n"
      ],
      "metadata": {
        "colab": {
          "base_uri": "https://localhost:8080/"
        },
        "id": "l4J1nrOz2q34",
        "outputId": "5cb559dd-2434-41c1-8f3d-0abadaf5682f"
      },
      "execution_count": 12,
      "outputs": [
        {
          "output_type": "stream",
          "name": "stdout",
          "text": [
            "3\n",
            "20\n",
            "26\n"
          ]
        }
      ]
    },
    {
      "cell_type": "code",
      "source": [
        "'''Take two strings \"str1\" and \"str2\" as input. Then your task is to concatenate the two strings and print the resultant\n",
        "concatenated string.'''\n",
        "\n",
        "str1 =int()\n",
        "str2 = int()\n",
        "\n",
        "str1 = input()\n",
        "str2 = input()\n",
        "\n",
        "print(str1 + str2)"
      ],
      "metadata": {
        "colab": {
          "base_uri": "https://localhost:8080/"
        },
        "id": "IsD1MHRE4IBn",
        "outputId": "71ace373-c37f-49b9-ce84-4189df77255d"
      },
      "execution_count": 13,
      "outputs": [
        {
          "output_type": "stream",
          "name": "stdout",
          "text": [
            "sai\n",
            "abi\n",
            "saiabi\n"
          ]
        }
      ]
    },
    {
      "cell_type": "code",
      "source": [
        "#2) Print your name and your favorite hobby in two separate lines using a single print statement.\n",
        "\n",
        "print(\"sai\", \"Watching Movies\", sep=\"\\n\")"
      ],
      "metadata": {
        "colab": {
          "base_uri": "https://localhost:8080/"
        },
        "id": "rl8kCD3a7Hqa",
        "outputId": "a497ebea-3b49-4710-8061-bca3cf5894de"
      },
      "execution_count": 14,
      "outputs": [
        {
          "output_type": "stream",
          "name": "stdout",
          "text": [
            "sai\n",
            "Watching Movies\n"
          ]
        }
      ]
    },
    {
      "cell_type": "code",
      "source": [
        "#5) Create a variable radius with a value of 5. Calculate and print the area of a circle using the formula  pi*r*r , assuming  pi = 3.14 .\n",
        "\n",
        "pi = 3.14\n",
        "r = 5\n",
        "print(pi*r**2)"
      ],
      "metadata": {
        "colab": {
          "base_uri": "https://localhost:8080/"
        },
        "id": "3Nw9qdXs7j_L",
        "outputId": "2b9b39c6-b5c1-4caf-8c43-1b724b14d7d1"
      },
      "execution_count": 16,
      "outputs": [
        {
          "output_type": "stream",
          "name": "stdout",
          "text": [
            "78.5\n"
          ]
        }
      ]
    },
    {
      "cell_type": "code",
      "source": [
        "#6) Declare three variables a = 5, b = 10, and c = 15. Swap the values of a and b without using a temporary variable.\n",
        "a=5\n",
        "b=10\n",
        "c=15\n",
        "a,b = b,a\n",
        "print(a,b)"
      ],
      "metadata": {
        "colab": {
          "base_uri": "https://localhost:8080/"
        },
        "id": "pqFhpP9W7vLH",
        "outputId": "88709586-c582-4274-fe31-78c0ebc095b2"
      },
      "execution_count": 17,
      "outputs": [
        {
          "output_type": "stream",
          "name": "stdout",
          "text": [
            "10 5\n"
          ]
        }
      ]
    },
    {
      "cell_type": "code",
      "source": [
        "# Write a program to ask the user for their name and age. Print a message: `Hello <name>, you are <age> years old.\n",
        "\n",
        "name = input()\n",
        "age = int(input())\n",
        "print(\"Hello\", name, \"you are\", age, \"years old.\")"
      ],
      "metadata": {
        "colab": {
          "base_uri": "https://localhost:8080/"
        },
        "id": "wuVMxJoN79mz",
        "outputId": "f3ea0cba-67c3-40e9-87e0-793a76358a9b"
      },
      "execution_count": 18,
      "outputs": [
        {
          "output_type": "stream",
          "name": "stdout",
          "text": [
            "sai\n",
            "23\n",
            "Hello sai you are 23 years old.\n"
          ]
        }
      ]
    },
    {
      "cell_type": "code",
      "source": [
        "#Ask the user for the length and width of a rectangle. Calculate and display its area and perimeter.\n",
        "l = int(input(\"Enter the length of the rectangle: \"))\n",
        "w = int(input(\"Enter the width of the rectangle: \"))\n",
        "\n",
        "area = l * w\n",
        "perimeter = 2 * (l + w)\n",
        "\n",
        "print(\"The area of the rectangle is:\", area)\n",
        "print(\"The perimeter of the rectangle is:\", perimeter)"
      ],
      "metadata": {
        "colab": {
          "base_uri": "https://localhost:8080/"
        },
        "id": "91-vxFJk8Xtb",
        "outputId": "cfcf9be0-c809-4835-fa0d-c8e6c2bb4b13"
      },
      "execution_count": 20,
      "outputs": [
        {
          "output_type": "stream",
          "name": "stdout",
          "text": [
            "Enter the length of the rectangle: 10\n",
            "Enter the width of the rectangle: 20\n",
            "The area of the rectangle is: 200\n",
            "The perimeter of the rectangle is: 60\n"
          ]
        }
      ]
    },
    {
      "cell_type": "markdown",
      "source": [
        "#ScalerDay 29_Python_Day02_Operators_23-Jan-2025"
      ],
      "metadata": {
        "id": "2HXf4vEb4ar3"
      }
    },
    {
      "cell_type": "code",
      "source": [
        "#Arithmetic Operators\n",
        "#Add,Sub,MUL,Div,Exponent,Floor division, Modulas\n",
        "print(5 + 5)    # int + int --> int\n",
        "print(5.0 + 5)   # float + int --> float\n",
        "print(10 / 5) # divison operator will always give output as float\n",
        "print(2 ** 3) #Exponent (To the power)\n",
        "print(10 // 3) #Floor Divison\n",
        "print(-10//3) #Floor Divison\n",
        "print(10 % 3) #Modulus (Remainder)\n",
        "print(- 10 / 3)"
      ],
      "metadata": {
        "colab": {
          "base_uri": "https://localhost:8080/"
        },
        "id": "WdwuEyvy5ON5",
        "outputId": "d0599b8e-38b3-43ee-d78d-ff8b9acee0a6"
      },
      "execution_count": 28,
      "outputs": [
        {
          "output_type": "stream",
          "name": "stdout",
          "text": [
            "10.0\n",
            "2.0\n",
            "8\n",
            "3\n",
            "-4\n",
            "1\n",
            "-3.3333333333333335\n",
            "-4\n"
          ]
        }
      ]
    },
    {
      "cell_type": "code",
      "source": [
        "x = 10\n",
        "y = 3\n",
        "\n",
        "print(\"Remainder\", x%y)\n",
        "print(\"Floor Divison\", x//y)"
      ],
      "metadata": {
        "colab": {
          "base_uri": "https://localhost:8080/"
        },
        "id": "ZZwi57sc_zsz",
        "outputId": "579de911-69fe-46de-f0bb-3531f294fa5c"
      },
      "execution_count": 29,
      "outputs": [
        {
          "output_type": "stream",
          "name": "stdout",
          "text": [
            "Remainder 1\n",
            "Floor Divison 3\n"
          ]
        }
      ]
    },
    {
      "cell_type": "code",
      "source": [
        "print(bool(0))\n",
        "print(bool())# Except these 2 remaining all true if you put anything inside bool()\n",
        "print(bool(100))\n",
        "print(bool(\"asbkldasd\"))"
      ],
      "metadata": {
        "colab": {
          "base_uri": "https://localhost:8080/"
        },
        "id": "S0NtEnRN_-Lp",
        "outputId": "8260a0d7-fbdc-4ef8-d12a-50e4066f46e1"
      },
      "execution_count": 32,
      "outputs": [
        {
          "output_type": "stream",
          "name": "stdout",
          "text": [
            "False\n",
            "False\n",
            "True\n",
            "True\n"
          ]
        }
      ]
    },
    {
      "cell_type": "code",
      "source": [
        "# Comparison Operator\n",
        "\n",
        "print(10<3)\n",
        "print(10>3)\n",
        "print(10<=3)\n",
        "print(10>=3)\n",
        "print(10==3)\n",
        "print(10!=3)"
      ],
      "metadata": {
        "colab": {
          "base_uri": "https://localhost:8080/"
        },
        "id": "cLxG7zErCXFc",
        "outputId": "189b71dc-ebd9-4873-acd9-019ddb0d0a46"
      },
      "execution_count": 33,
      "outputs": [
        {
          "output_type": "stream",
          "name": "stdout",
          "text": [
            "False\n",
            "True\n",
            "False\n",
            "True\n",
            "False\n",
            "True\n"
          ]
        }
      ]
    },
    {
      "cell_type": "code",
      "source": [
        "# Assignment Operator (sinle equal to =)\n",
        "\n",
        "a =12\n",
        "print(a)"
      ],
      "metadata": {
        "colab": {
          "base_uri": "https://localhost:8080/"
        },
        "id": "kVjyCZ97Cqby",
        "outputId": "402f536e-7e07-477a-ef03-8ab8b6ce274b"
      },
      "execution_count": 34,
      "outputs": [
        {
          "output_type": "stream",
          "name": "stdout",
          "text": [
            "12\n"
          ]
        }
      ]
    },
    {
      "cell_type": "code",
      "source": [
        "# Logical Operators\n",
        "\n",
        "print(10<2 and 10>3)\n",
        "print(10<2 or 10>3)\n",
        "print(not(10<2 or 10>3))"
      ],
      "metadata": {
        "colab": {
          "base_uri": "https://localhost:8080/"
        },
        "id": "wAmXBL8hCynf",
        "outputId": "ec594341-430b-4587-f1a9-f325d24fa7c0"
      },
      "execution_count": 35,
      "outputs": [
        {
          "output_type": "stream",
          "name": "stdout",
          "text": [
            "False\n",
            "True\n",
            "False\n"
          ]
        }
      ]
    },
    {
      "cell_type": "code",
      "source": [],
      "metadata": {
        "id": "CKIs_dxQDGCe"
      },
      "execution_count": null,
      "outputs": []
    }
  ]
}