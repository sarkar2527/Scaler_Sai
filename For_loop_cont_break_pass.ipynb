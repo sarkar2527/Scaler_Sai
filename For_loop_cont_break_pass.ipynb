{
  "nbformat": 4,
  "nbformat_minor": 0,
  "metadata": {
    "colab": {
      "provenance": [],
      "authorship_tag": "ABX9TyOkQJUq7bmvvmuWELcOQac1",
      "include_colab_link": true
    },
    "kernelspec": {
      "name": "python3",
      "display_name": "Python 3"
    },
    "language_info": {
      "name": "python"
    }
  },
  "cells": [
    {
      "cell_type": "markdown",
      "metadata": {
        "id": "view-in-github",
        "colab_type": "text"
      },
      "source": [
        "<a href=\"https://colab.research.google.com/github/sarkar2527/Scaler_Sai/blob/main/For_loop_cont_break_pass.ipynb\" target=\"_parent\"><img src=\"https://colab.research.google.com/assets/colab-badge.svg\" alt=\"Open In Colab\"/></a>"
      ]
    },
    {
      "cell_type": "code",
      "execution_count": 1,
      "metadata": {
        "colab": {
          "base_uri": "https://localhost:8080/"
        },
        "id": "LM81SXXiKBzp",
        "outputId": "7e8b889c-363d-49b1-b481-ef13c2d37254"
      },
      "outputs": [
        {
          "output_type": "stream",
          "name": "stdout",
          "text": [
            "1\n",
            "2\n",
            "3\n",
            "4\n",
            "5\n",
            "6\n",
            "7\n",
            "8\n",
            "9\n",
            "10\n"
          ]
        }
      ],
      "source": [
        "for i in range(1,11): #range(start,stop,step).step size by default 1. 11 is excluded.\n",
        "  print(i)"
      ]
    },
    {
      "cell_type": "code",
      "source": [
        "for i in range(1,11,2):\n",
        "  print(i)"
      ],
      "metadata": {
        "colab": {
          "base_uri": "https://localhost:8080/"
        },
        "id": "chCkGGH9KjNh",
        "outputId": "69918899-c4ec-45aa-e900-7d79882d43bf"
      },
      "execution_count": 2,
      "outputs": [
        {
          "output_type": "stream",
          "name": "stdout",
          "text": [
            "1\n",
            "3\n",
            "5\n",
            "7\n",
            "9\n"
          ]
        }
      ]
    },
    {
      "cell_type": "code",
      "source": [
        "list(range(1,11,1)) # if step size is positive, will go from left to right. starting number should be less than the ending number"
      ],
      "metadata": {
        "colab": {
          "base_uri": "https://localhost:8080/"
        },
        "id": "Ga4enSwOLcAB",
        "outputId": "bcc64600-fb8d-41bd-85d1-d4f87b93afe7"
      },
      "execution_count": 3,
      "outputs": [
        {
          "output_type": "execute_result",
          "data": {
            "text/plain": [
              "[1, 2, 3, 4, 5, 6, 7, 8, 9, 10]"
            ]
          },
          "metadata": {},
          "execution_count": 3
        }
      ]
    },
    {
      "cell_type": "code",
      "source": [
        "list(range(11,1,-1)) # if step size is negative, will go from right to left. starting number should be greater than the ending number"
      ],
      "metadata": {
        "colab": {
          "base_uri": "https://localhost:8080/"
        },
        "id": "_EtIijFwLjcA",
        "outputId": "8110bd24-8d7f-4037-d448-61ea3e140c4d"
      },
      "execution_count": 4,
      "outputs": [
        {
          "output_type": "execute_result",
          "data": {
            "text/plain": [
              "[11, 10, 9, 8, 7, 6, 5, 4, 3, 2]"
            ]
          },
          "metadata": {},
          "execution_count": 4
        }
      ]
    },
    {
      "cell_type": "code",
      "source": [
        "#find the sum of natural number\n",
        "\n",
        "n = int(input(\"enter the num: \"))\n",
        "\n",
        "total_sum = 0\n",
        "\n",
        "for i in range(1,n+1): # Range will exclude the last numnber. To include last number, used n+1\n",
        "  total_sum = total_sum + i\n",
        "\n",
        "print(total_sum)"
      ],
      "metadata": {
        "colab": {
          "base_uri": "https://localhost:8080/"
        },
        "id": "00BBphLWM1Lj",
        "outputId": "c582c3d0-8bc4-4559-ab63-585bd350b046"
      },
      "execution_count": 7,
      "outputs": [
        {
          "output_type": "stream",
          "name": "stdout",
          "text": [
            "enter the num: 5\n",
            "15\n"
          ]
        }
      ]
    },
    {
      "cell_type": "code",
      "source": [
        "#print the Number in desc order\n",
        "n = int(input(\"enter the num: \"))\n",
        "\n",
        "for i in range(n,0,-1):\n",
        "  print(i)"
      ],
      "metadata": {
        "colab": {
          "base_uri": "https://localhost:8080/"
        },
        "id": "igDv-iEgPdNA",
        "outputId": "25e6b864-7f25-4f07-cf92-8bb52de02600"
      },
      "execution_count": 8,
      "outputs": [
        {
          "output_type": "stream",
          "name": "stdout",
          "text": [
            "enter the num: 4\n",
            "4\n",
            "3\n",
            "2\n",
            "1\n"
          ]
        }
      ]
    },
    {
      "cell_type": "markdown",
      "source": [
        "Solve the same problem without negative index"
      ],
      "metadata": {
        "id": "QxnI2jWwQwud"
      }
    },
    {
      "cell_type": "code",
      "source": [
        "n = int(input(\"enter the num: \"))\n",
        "\n",
        "for i in range(1,n+1):\n",
        "  print(i, n-i+1 )\n"
      ],
      "metadata": {
        "colab": {
          "base_uri": "https://localhost:8080/"
        },
        "id": "1douVwGmQ2Iz",
        "outputId": "bcd57533-4aeb-4f78-f897-6342bf96f8e3"
      },
      "execution_count": 10,
      "outputs": [
        {
          "output_type": "stream",
          "name": "stdout",
          "text": [
            "enter the num: 5\n",
            "1 5\n",
            "2 4\n",
            "3 3\n",
            "4 2\n",
            "5 1\n"
          ]
        }
      ]
    },
    {
      "cell_type": "code",
      "source": [
        "# Write a code to print 1,4,7,10,13,16\n",
        "\n",
        "for i in range(1,17,3):\n",
        "  print(i, end= \",\")"
      ],
      "metadata": {
        "colab": {
          "base_uri": "https://localhost:8080/"
        },
        "id": "_0ghWqjjXQH5",
        "outputId": "b92b3c5f-ab9a-43c7-82c2-749ce91b8720"
      },
      "execution_count": 12,
      "outputs": [
        {
          "output_type": "stream",
          "name": "stdout",
          "text": [
            "1,4,7,10,13,16,"
          ]
        }
      ]
    },
    {
      "cell_type": "code",
      "source": [
        "# I don't want comma at the end\"\n",
        "\n",
        "\n",
        "for i in range(1,17,3):\n",
        "  if i ==16:\n",
        "    print(i,end=\"\")\n",
        "  else:\n",
        "    print(i, end= \",\")"
      ],
      "metadata": {
        "colab": {
          "base_uri": "https://localhost:8080/"
        },
        "id": "aYR2ClkZXpme",
        "outputId": "97394fb0-2aa8-4074-a604-3c4b0a3384df"
      },
      "execution_count": 13,
      "outputs": [
        {
          "output_type": "stream",
          "name": "stdout",
          "text": [
            "1,4,7,10,13,16"
          ]
        }
      ]
    },
    {
      "cell_type": "code",
      "source": [
        "# Get the input from the user\n",
        "\n",
        "n = int(input(\"Enter the number\"))\n",
        "\n",
        "for i in range(1,n+1,3):\n",
        "  if i == n:\n",
        "    print(i,end =\"\")\n",
        "  else:\n",
        "    print(i,end =\",\")"
      ],
      "metadata": {
        "colab": {
          "base_uri": "https://localhost:8080/"
        },
        "id": "hFEek8DYX7qR",
        "outputId": "fcb63a7b-4373-4e89-b4d2-680b87cf1b51"
      },
      "execution_count": 15,
      "outputs": [
        {
          "output_type": "stream",
          "name": "stdout",
          "text": [
            "Enter the number16\n",
            "1,4,7,10,13,16"
          ]
        }
      ]
    }
  ]
}