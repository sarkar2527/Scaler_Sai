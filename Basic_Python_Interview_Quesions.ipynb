{
  "nbformat": 4,
  "nbformat_minor": 0,
  "metadata": {
    "colab": {
      "provenance": [],
      "include_colab_link": true
    },
    "kernelspec": {
      "name": "python3",
      "display_name": "Python 3"
    },
    "language_info": {
      "name": "python"
    }
  },
  "cells": [
    {
      "cell_type": "markdown",
      "metadata": {
        "id": "view-in-github",
        "colab_type": "text"
      },
      "source": [
        "<a href=\"https://colab.research.google.com/github/sarkar2527/Scaler_Sai/blob/main/Basic_Python_Interview_Quesions.ipynb\" target=\"_parent\"><img src=\"https://colab.research.google.com/assets/colab-badge.svg\" alt=\"Open In Colab\"/></a>"
      ]
    },
    {
      "cell_type": "markdown",
      "source": [
        "# **Question:**  Session: Control Statements\n",
        "\n",
        "Write a program to calculate the percentage (according to marks of a student) and grade (according to the percentage of a student). Five numbers(A, B, C, D & E) represent the marks of a student in 5 subjects which are out of 100. Print the percentage and the grade of the student.\n",
        "\n",
        "If percentage >= 90% : Grade A\n",
        "\n",
        "If percentage >= 80% but <90 : Grade B\n",
        "\n",
        "If percentage >= 70% but <80: Grade C\n",
        "\n",
        "If percentage >= 60% but <70: Grade D\n",
        "\n",
        "If percentage >= 40% but <60: Grade E\n",
        "\n",
        "If percentage < 40%: Grade F\n",
        "\n",
        "\n",
        "NOTE: You have to take the lowest integer of the percentage. E.g. 90.8% will be treated as 90%.\n"
      ],
      "metadata": {
        "id": "iAgweMBX9JBI"
      }
    },
    {
      "cell_type": "code",
      "source": [
        "m1 = int(input())\n",
        "m2 = int(input())\n",
        "m3 = int(input())\n",
        "m4 = int(input())\n",
        "m5 = int(input())\n",
        "\n",
        "total = m1 + m2 + m3 + m4 + m5\n",
        "per = int(total/5)\n",
        "\n",
        "print(per)\n",
        "if(per >= 90):\n",
        "    print(\"A\")\n",
        "elif(per >= 80):\n",
        "    print(\"B\")\n",
        "elif(per >= 70):\n",
        "    print(\"C\")\n",
        "elif(per >= 60):\n",
        "    print(\"D\")\n",
        "elif(per >= 40):\n",
        "    print(\"E\")\n",
        "else :\n",
        "    print(\"F\")"
      ],
      "metadata": {
        "id": "OB9acpsu9HnJ",
        "colab": {
          "base_uri": "https://localhost:8080/"
        },
        "outputId": "cdc4e504-2bb9-4369-e289-37bf46668f98"
      },
      "execution_count": null,
      "outputs": [
        {
          "output_type": "stream",
          "name": "stdout",
          "text": [
            "50\n",
            "60\n",
            "70\n",
            "80\n",
            "90\n",
            "70\n",
            "C\n"
          ]
        }
      ]
    },
    {
      "cell_type": "markdown",
      "source": [
        "# **Question:** All correct about x\n",
        "\n",
        "You have been given the following piece of code. Assume that x has already been declared.\n",
        "\n",
        "\n",
        "```\n",
        "if x > 2:\n",
        "    x = x*2\n",
        "if x > 4:\n",
        "    x = 0\n",
        "print(x)\n",
        "```\n",
        "\n",
        "\n",
        "Select the correct statement regarding this code.\n",
        "\n",
        "\n",
        "\n",
        "*   If x > 2 and x < 4, final value of x will be double the initial value\n",
        "*   Output will always be equal to 0\n",
        "*   For x > 2, output will be equal to 0\n",
        "*   For x in 0 < x < 4 the output will always be 0\n",
        "\n",
        "\n",
        "**SOLUTION:**\n",
        "\n",
        "For x > 2, output will be equal to 0\n",
        "\n",
        "\n"
      ],
      "metadata": {
        "id": "fkmB0NsPjs0-"
      }
    },
    {
      "cell_type": "markdown",
      "source": [
        "# **Question:** Arrange while\n",
        "\n",
        "You want to find the first n natural even numbers. In what sequence should the following statements be rearranged to get the desired output?\n",
        "Assume that suitable indentation will be included.\n",
        "\n",
        "\n",
        "\n",
        "```\n",
        "1. if i%2 ==0:\n",
        "2. i=2\n",
        "3. print(i)\n",
        "4. while (i<=2*n):\n",
        "5. i+=1\n",
        "```\n",
        "\n",
        "**SOLUTION:**\n",
        "The correct sequence is: 2 4 1 3 5\n",
        "\n",
        "**Explanation:**\n",
        "\n",
        "The loop will run 2*n to account for n even numbers.\n",
        "Doing `i%2` will ensure that the numbers that are printed are even. The following code will be the one that will execute correctly:\n"
      ],
      "metadata": {
        "id": "bW8OsidOFo5H"
      }
    },
    {
      "cell_type": "code",
      "source": [
        "# Solution:\n",
        "n = 10\n",
        "i=2\n",
        "while(i<=2*n):\n",
        "    if i%2==0:\n",
        "        print(i)\n",
        "    i+=1"
      ],
      "metadata": {
        "colab": {
          "base_uri": "https://localhost:8080/"
        },
        "id": "M-3iFiUM1P3R",
        "outputId": "643021b6-fc56-40db-9060-12b89c1c4133"
      },
      "execution_count": null,
      "outputs": [
        {
          "output_type": "stream",
          "name": "stdout",
          "text": [
            "2\n",
            "4\n",
            "6\n",
            "8\n",
            "10\n",
            "12\n",
            "14\n",
            "16\n",
            "18\n",
            "20\n"
          ]
        }
      ]
    },
    {
      "cell_type": "markdown",
      "source": [
        "# **Question:** Exponent using while loop\n",
        "\n",
        "Complete the following code snippet in order to find the exponent, i.e. the number of times base should be multiplied by itself to get num.\n",
        "\n",
        "\n",
        "```\n",
        "num=16\n",
        "base=4\n",
        "cnt=0\n",
        "while(num>1):\n",
        "  ?????\n",
        "  cnt+=1\n",
        "print(cnt)\n",
        "```\n",
        "Which of the options can be used in place of blank(?????) in order to get the power value?\n",
        "\n",
        "**SOLUTION:**\n",
        "num /= base\n",
        "\n",
        "**Explanation:**\n",
        "As mentioned in the question we need the exponent value therefore\n",
        "we will keep dividing the given num with base until it becomes 1\n",
        "and will increase the cnt everytime and in the end this count will\n",
        "become the answer i.e. exponent.\n",
        "\n"
      ],
      "metadata": {
        "id": "-zPRAYLHHrTx"
      }
    },
    {
      "cell_type": "markdown",
      "source": [
        "# **Question:** Count the digits\n",
        "\n",
        "**Problem Description**\n",
        "\n",
        "Take T (number of test cases) as input.\n",
        "For each test case, take integer N as input and Print the count of digits of that number.\n",
        "\n",
        "**Note:** No of digits for number 0 is considered as 1.\n",
        "\n",
        "**Input Format**\n",
        "\n",
        "The first line is the number T which denotes the total number of test cases.\n",
        "Next T lines contain an integer N for which you have to print the number of digits.\n",
        "\n",
        "**Output Format**\n",
        "\n",
        "For T different Numbers, Print the number of digits in separate lines.\n",
        "\n",
        "**Example Input**\n",
        "*italicized text*\n",
        "2\n",
        "\n",
        "100\n",
        "\n",
        "10101\n",
        "\n",
        "**Example Output**\n",
        "\n",
        "3\n",
        "\n",
        "5\n"
      ],
      "metadata": {
        "id": "RRKy2RYHPegv"
      }
    },
    {
      "cell_type": "code",
      "source": [
        "# Take no. of test cases as input.\n",
        "tc = int(input())\n",
        "\n",
        "for i in range(tc):\n",
        "    number = int(input())\n",
        "\n",
        "    count_of_digits = 0\n",
        "\n",
        "    # Scenario: No of digits for number 0 is considered as 1.\n",
        "    if number == 0:\n",
        "        count_of_digits = 1\n",
        "\n",
        "    # Calculating no. of digits in a number.\n",
        "    while(number > 0):\n",
        "        count_of_digits += 1\n",
        "        number = number // 10\n",
        "\n",
        "\n",
        "    print(count_of_digits)"
      ],
      "metadata": {
        "colab": {
          "base_uri": "https://localhost:8080/"
        },
        "outputId": "0ab2d658-f5bd-407f-a1d2-a0d079a12527",
        "id": "YRZvS0qHc70V"
      },
      "execution_count": null,
      "outputs": [
        {
          "output_type": "stream",
          "name": "stdout",
          "text": [
            "1\n",
            "1234567890\n",
            "10\n"
          ]
        }
      ]
    },
    {
      "cell_type": "markdown",
      "source": [
        "# **Question:** Sum the digits\n",
        "\n",
        "**Problem Description**\n",
        "\n",
        "Take T (number of test cases) as input.\n",
        "For each test case, take integer N as input and Print the sum of digits of that number.\n",
        "\n",
        "\n",
        "**Input Format**\n",
        "\n",
        "The first line is the number T which denotes the total number of test cases.\n",
        "Next T lines contain an integer N for which you have to sum the number of digits.\n",
        "\n",
        "**Output Format**\n",
        "\n",
        "For T different Numbers, Print the sum of digits in separate lines.\n",
        "\n",
        "**Example Input**\n",
        "\n",
        "2\n",
        "\n",
        "123\n",
        "\n",
        "10101\n",
        "\n",
        "**Example Output**\n",
        "\n",
        "6\n",
        "\n",
        "3"
      ],
      "metadata": {
        "id": "08bCDAmMYc6m"
      }
    },
    {
      "cell_type": "code",
      "source": [
        "# Take no. of test cases as input.\n",
        "tc = int(input())\n",
        "\n",
        "for i in range(tc):\n",
        "    number = int(input())\n",
        "\n",
        "    sum_of_digits = 0\n",
        "\n",
        "    while(number > 0):\n",
        "        last_digit = number % 10\n",
        "        sum_of_digits += last_digit\n",
        "        number = number // 10\n",
        "\n",
        "    print(sum_of_digits)"
      ],
      "metadata": {
        "colab": {
          "base_uri": "https://localhost:8080/"
        },
        "id": "IAoPr7cCW-q6",
        "outputId": "c4122002-3680-4174-f783-3b9a9be6c79d"
      },
      "execution_count": null,
      "outputs": [
        {
          "output_type": "stream",
          "name": "stdout",
          "text": [
            "2\n",
            "987\n",
            "24\n",
            "12334\n",
            "13\n"
          ]
        }
      ]
    },
    {
      "cell_type": "markdown",
      "source": [
        "# **Question:** Create Right angle triangle pattern using Nested for loop in Python.\n",
        "\n",
        "\n",
        "\n",
        "\n",
        "\n"
      ],
      "metadata": {
        "id": "lTF3x6BlTEES"
      }
    },
    {
      "cell_type": "code",
      "source": [
        "rows = 5\n",
        "for i in range(1, rows+1):\n",
        "    # Nested loop goes from 0 to 'i' and step is +1.\n",
        "    # Iteration 1: Loop goes from 0 to 1 and prints * one times.\n",
        "    # Iteration 2: Loop goes from 0 to 2 and prints * two times.\n",
        "    # Iteration 3: Loop goes from 0 to 3 and prints * three times.\n",
        "    # Iteration 4: Loop goes from 0 to 5 and prints * four times.\n",
        "    # Iteration 5: Loop goes from 0 to 5 and prints * five times.\n",
        "    for j in range(i):\n",
        "        print(\"*\", end=\"\")\n",
        "    print()"
      ],
      "metadata": {
        "colab": {
          "base_uri": "https://localhost:8080/"
        },
        "id": "mHjmLUA4TWvd",
        "outputId": "1b58aac9-ecb4-4968-b467-bd30ed323d79"
      },
      "execution_count": null,
      "outputs": [
        {
          "output_type": "stream",
          "name": "stdout",
          "text": [
            "*\n",
            "**\n",
            "***\n",
            "****\n",
            "*****\n"
          ]
        }
      ]
    },
    {
      "cell_type": "markdown",
      "source": [
        "**Question 2:** Create Inverted Right angle triangle pattern using Nested for loop in Python."
      ],
      "metadata": {
        "id": "9KU5mmvKUfy_"
      }
    },
    {
      "cell_type": "code",
      "source": [
        "rows = 5\n",
        "for i in range(1, rows+1):\n",
        "    # Nested loop goes from 6 to 'i' and step is -1.\n",
        "    # Iteration 1: Loop goes from 5 to 1 and prints * five times.\n",
        "    # Iteration 2: Loop goes from 5 to 2 and prints * four times.\n",
        "    # Iteration 3: Loop goes from 5 to 3 and prints * three times.\n",
        "    # Iteration 4: Loop goes from 5 to 4 and prints * two times.\n",
        "    # Iteration 5: Loop goes from 5 to 4 and prints * one times.\n",
        "    for j in range(rows+1,i,-1):\n",
        "        print(\"*\", end=\"\")\n",
        "    print()"
      ],
      "metadata": {
        "colab": {
          "base_uri": "https://localhost:8080/"
        },
        "id": "i5OqWiXlUm8i",
        "outputId": "b9e01df4-b88a-4d10-c48c-7837d7d9bffd"
      },
      "execution_count": null,
      "outputs": [
        {
          "output_type": "stream",
          "name": "stdout",
          "text": [
            "*****\n",
            "****\n",
            "***\n",
            "**\n",
            "*\n"
          ]
        }
      ]
    },
    {
      "cell_type": "markdown",
      "source": [
        "**Question 3:** Create Pyramid pattern using Nested for loop in Python."
      ],
      "metadata": {
        "id": "fAWgBtsoUUQe"
      }
    },
    {
      "cell_type": "code",
      "source": [
        "# Outer Loop: \"for i in range(rows)\" - This loop controls the number of rows in the pyramid.\n",
        "# Inner Loop:  This loop prints spaces before the asterisks on each row to align them like a pyramid. The sequence of j must be 4,3,2,1,0\n",
        "#     for j in range(rows - i - 1):\n",
        "#         print(\" \", end=\"\")\n",
        "# Inner Loop: This loop prints the asterisks (*) for the current row. The sequence of j must be 1,3,5,7,9\n",
        "#     for k in range(2 * i + 1):\n",
        "#         print(\"*\", end=\"\")\n",
        "\n",
        "rows = 5\n",
        "for i in range(rows):\n",
        "    for j in range(rows - i - 1):\n",
        "        print(\" \", end=\"\")\n",
        "    for k in range(2 * i + 1):\n",
        "        print(\"*\", end=\"\")\n",
        "    print()"
      ],
      "metadata": {
        "colab": {
          "base_uri": "https://localhost:8080/"
        },
        "id": "pn6wI63EWzDZ",
        "outputId": "7ff113d8-f9c0-4568-cfd2-54e2ad38bdf0"
      },
      "execution_count": null,
      "outputs": [
        {
          "output_type": "stream",
          "name": "stdout",
          "text": [
            "    *\n",
            "   ***\n",
            "  *****\n",
            " *******\n",
            "*********\n"
          ]
        }
      ]
    },
    {
      "cell_type": "markdown",
      "source": [
        "**Question 4:** Create Inverted Pyramid pattern using Nested for loop in Python."
      ],
      "metadata": {
        "id": "Zm9WUR5Wj052"
      }
    },
    {
      "cell_type": "code",
      "source": [
        "rows = 5\n",
        "\n",
        "for i in range(rows - 1, -1, -1):\n",
        "    for j in range(rows - i - 1):\n",
        "        print(\" \", end=\"\")\n",
        "    for k in range(2 * i + 1):\n",
        "        print(\"*\", end=\"\")\n",
        "    print()"
      ],
      "metadata": {
        "colab": {
          "base_uri": "https://localhost:8080/"
        },
        "id": "8BGllA59j49H",
        "outputId": "67735cae-ab52-4d9f-ac15-d0a5e4151cbb"
      },
      "execution_count": null,
      "outputs": [
        {
          "output_type": "stream",
          "name": "stdout",
          "text": [
            "*********\n",
            " *******\n",
            "  *****\n",
            "   ***\n",
            "    *\n"
          ]
        }
      ]
    },
    {
      "cell_type": "markdown",
      "source": [
        "**Question 5:** Create Diamond pattern using Nested for loop in Python."
      ],
      "metadata": {
        "id": "M1zQQzeUUOlW"
      }
    },
    {
      "cell_type": "code",
      "source": [
        "rows = 5\n",
        "\n",
        "# Upper Part same as Pyramid.\n",
        "for i in range(rows):\n",
        "    for j in range(rows - i - 1):\n",
        "        print(\" \", end=\"\")\n",
        "    for k in range(2 * i + 1):\n",
        "        print(\"*\", end=\"\")\n",
        "    print()\n",
        "\n",
        "# Lower Part same as inverted Pyramid.\n",
        "for i in range(rows - 2, -1, -1):\n",
        "    for j in range(rows - i - 1):\n",
        "        print(\" \", end=\"\")\n",
        "    for k in range(2 * i + 1):\n",
        "        print(\"*\", end=\"\")\n",
        "    print()\n",
        "\n"
      ],
      "metadata": {
        "colab": {
          "base_uri": "https://localhost:8080/"
        },
        "id": "JAfnX20GioI5",
        "outputId": "c3dbd285-e1e5-4f8b-fbe8-216a663b201e"
      },
      "execution_count": null,
      "outputs": [
        {
          "output_type": "stream",
          "name": "stdout",
          "text": [
            "    *\n",
            "   ***\n",
            "  *****\n",
            " *******\n",
            "*********\n",
            " *******\n",
            "  *****\n",
            "   ***\n",
            "    *\n"
          ]
        }
      ]
    },
    {
      "cell_type": "markdown",
      "source": [
        "**Question 6:** Numeric Inverted Half Pyramid"
      ],
      "metadata": {
        "id": "s7xdTDvS0Fxg"
      }
    },
    {
      "cell_type": "code",
      "source": [
        "rows = 5\n",
        "\n",
        "for i in range(rows):\n",
        "    for j in range(1,rows - i):\n",
        "        print(j, end = \"\")\n",
        "    print()"
      ],
      "metadata": {
        "colab": {
          "base_uri": "https://localhost:8080/"
        },
        "id": "gPnF_ZuT0FCw",
        "outputId": "172b8b93-e276-470a-ecb4-117150d1b3f1"
      },
      "execution_count": null,
      "outputs": [
        {
          "output_type": "stream",
          "name": "stdout",
          "text": [
            "1234\n",
            "123\n",
            "12\n",
            "1\n",
            "\n"
          ]
        }
      ]
    },
    {
      "cell_type": "markdown",
      "source": [
        "**Question 7:** Numeric stair Pattern."
      ],
      "metadata": {
        "id": "KU-osS9o4Mhr"
      }
    },
    {
      "cell_type": "code",
      "source": [
        "rows = 5\n",
        "for i in range(1,rows+1):\n",
        "    for j in range(1,i+1):\n",
        "        print(j, end=\"\")\n",
        "    print()"
      ],
      "metadata": {
        "colab": {
          "base_uri": "https://localhost:8080/"
        },
        "id": "5eHuxLJ927v0",
        "outputId": "ddda79d2-4b28-4b47-d94c-49ee46c28a20"
      },
      "execution_count": null,
      "outputs": [
        {
          "output_type": "stream",
          "name": "stdout",
          "text": [
            "1\n",
            "12\n",
            "123\n",
            "1234\n",
            "12345\n"
          ]
        }
      ]
    },
    {
      "cell_type": "code",
      "source": [
        "N = int(input())\n",
        "\n",
        "for i in range(1,N+1):\n",
        "    for j in range(1,i+1):\n",
        "        print(j, end=\"\")\n",
        "    print()"
      ],
      "metadata": {
        "colab": {
          "base_uri": "https://localhost:8080/"
        },
        "id": "YAUctHHf583A",
        "outputId": "57fcf45f-75c1-4d56-fcde-55b75118a0d3"
      },
      "execution_count": null,
      "outputs": [
        {
          "output_type": "stream",
          "name": "stdout",
          "text": [
            "4\n",
            "1\n",
            "12\n",
            "123\n",
            "1234\n"
          ]
        }
      ]
    },
    {
      "cell_type": "markdown",
      "source": [
        "**Question:** Create a function to reverse a number in Python."
      ],
      "metadata": {
        "id": "-NzQMxA7ezAh"
      }
    },
    {
      "cell_type": "markdown",
      "source": [
        "**Question:** Create a function to add all digits of an input number.\n",
        "\n",
        "**Example**\n",
        "Input = 123\n",
        "Output = 6"
      ],
      "metadata": {
        "id": "aAtpaKVkh07f"
      }
    },
    {
      "cell_type": "markdown",
      "source": [
        "**Question:** Create a function to reverse a number in Python."
      ],
      "metadata": {
        "id": "TWHWDbvFh1RB"
      }
    },
    {
      "cell_type": "markdown",
      "source": [
        "**Question:** Create a function to reverse a number in Python."
      ],
      "metadata": {
        "id": "JezFbwx8h1dw"
      }
    },
    {
      "cell_type": "markdown",
      "source": [
        "**Question:** Create a function to reverse a number in Python."
      ],
      "metadata": {
        "id": "kQ29fqjWh1qt"
      }
    }
  ]
}