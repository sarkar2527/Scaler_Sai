{
  "nbformat": 4,
  "nbformat_minor": 0,
  "metadata": {
    "colab": {
      "provenance": [],
      "authorship_tag": "ABX9TyMQEdQmiiYT1vcd7J/sa/qb",
      "include_colab_link": true
    },
    "kernelspec": {
      "name": "python3",
      "display_name": "Python 3"
    },
    "language_info": {
      "name": "python"
    }
  },
  "cells": [
    {
      "cell_type": "markdown",
      "metadata": {
        "id": "view-in-github",
        "colab_type": "text"
      },
      "source": [
        "<a href=\"https://colab.research.google.com/github/sarkar2527/Scaler_Sai/blob/main/Loops_Patterns_programs.ipynb\" target=\"_parent\"><img src=\"https://colab.research.google.com/assets/colab-badge.svg\" alt=\"Open In Colab\"/></a>"
      ]
    },
    {
      "cell_type": "code",
      "execution_count": 1,
      "metadata": {
        "id": "MK7c_XA6Yq_v"
      },
      "outputs": [],
      "source": [
        "abc = {}\n",
        "abc[1] = 1\n",
        "abc['1'] = 2\n",
        "abc[1] = abc[1] + 1"
      ]
    },
    {
      "cell_type": "code",
      "source": [
        "print(abc)"
      ],
      "metadata": {
        "colab": {
          "base_uri": "https://localhost:8080/"
        },
        "id": "WzvKXcBAYxSl",
        "outputId": "3292eeee-3d87-4647-a348-cc153a0f2a36"
      },
      "execution_count": 2,
      "outputs": [
        {
          "output_type": "stream",
          "name": "stdout",
          "text": [
            "{1: 2, '1': 2}\n"
          ]
        }
      ]
    },
    {
      "cell_type": "code",
      "source": [
        "for i in range(1,5):\n",
        "  print(\"Value of i:\", i)\n",
        "  for j in range(1,5):\n",
        "    print(j)"
      ],
      "metadata": {
        "colab": {
          "base_uri": "https://localhost:8080/"
        },
        "id": "dfZLbuEzdF6t",
        "outputId": "db558c1c-dc41-4372-84b5-8915c0995bd2"
      },
      "execution_count": 12,
      "outputs": [
        {
          "output_type": "stream",
          "name": "stdout",
          "text": [
            "Value of i: 1\n",
            "1\n",
            "2\n",
            "3\n",
            "4\n",
            "\n",
            "Value of i: 2\n",
            "1\n",
            "2\n",
            "3\n",
            "4\n",
            "\n",
            "Value of i: 3\n",
            "1\n",
            "2\n",
            "3\n",
            "4\n",
            "\n",
            "Value of i: 4\n",
            "1\n",
            "2\n",
            "3\n",
            "4\n",
            "\n"
          ]
        }
      ]
    },
    {
      "cell_type": "code",
      "source": [
        "N = int(input(\"enter the matrix\"))\n",
        "\n",
        "for i in range(1, N+1):\n",
        "  for j in range(1, N+1):\n",
        "    print(\"*\", end =\" \")\n",
        "  print() # This print statement used to print the * into the next line once inner loops completed."
      ],
      "metadata": {
        "colab": {
          "base_uri": "https://localhost:8080/"
        },
        "id": "6t-zLzsNebPc",
        "outputId": "01c51837-85b4-4c0c-aebd-2aef919c5d24"
      },
      "execution_count": 13,
      "outputs": [
        {
          "output_type": "stream",
          "name": "stdout",
          "text": [
            "enter the matrix4\n",
            "* * * * \n",
            "* * * * \n",
            "* * * * \n",
            "* * * * \n"
          ]
        }
      ]
    },
    {
      "cell_type": "code",
      "source": [
        "N = int(input(\"enter the matrix\"))\n",
        "\n",
        "for i in range(1, N+1):\n",
        "  for j in range(1, N+1):\n",
        "    print(\"*\", end =\" \")\n",
        "  print()"
      ],
      "metadata": {
        "colab": {
          "base_uri": "https://localhost:8080/"
        },
        "id": "_JbB7F9Ue99I",
        "outputId": "b620b05c-753c-4cf2-c4bb-38ffe60b42c6"
      },
      "execution_count": 16,
      "outputs": [
        {
          "output_type": "stream",
          "name": "stdout",
          "text": [
            "enter the matrix6\n",
            "* * * * * * \n",
            "* * * * * * \n",
            "* * * * * * \n",
            "* * * * * * \n",
            "* * * * * * \n",
            "* * * * * * \n"
          ]
        }
      ]
    },
    {
      "cell_type": "code",
      "source": [
        "i =1\n",
        "\n",
        "while i <=5:\n",
        "  print(\"sai\")\n",
        "  i= i+1"
      ],
      "metadata": {
        "colab": {
          "base_uri": "https://localhost:8080/"
        },
        "id": "NbcRLljAmRcO",
        "outputId": "9578d51d-6103-4e1f-c5b7-e0bdd8995916"
      },
      "execution_count": 17,
      "outputs": [
        {
          "output_type": "stream",
          "name": "stdout",
          "text": [
            "sai\n",
            "sai\n",
            "sai\n",
            "sai\n",
            "sai\n"
          ]
        }
      ]
    },
    {
      "cell_type": "code",
      "source": [
        "N = int(input(\"enter the Number of times you want to print\"))\n",
        "\n",
        "i =1\n",
        "while i <= N:\n",
        "  print(\"Sai\")\n",
        "  i= i+1"
      ],
      "metadata": {
        "colab": {
          "base_uri": "https://localhost:8080/"
        },
        "id": "p01Tbxxmmjm_",
        "outputId": "438fda9b-1fb8-4825-acd4-03f4b22eeab1"
      },
      "execution_count": 22,
      "outputs": [
        {
          "output_type": "stream",
          "name": "stdout",
          "text": [
            "enter the Number of times you want to print5\n",
            "Sai\n",
            "Sai\n",
            "Sai\n",
            "Sai\n",
            "Sai\n"
          ]
        }
      ]
    },
    {
      "cell_type": "code",
      "source": [
        "i = 1\n",
        "\n",
        "while i <=5:\n",
        "  print(\"Sai\", end = \" \")\n",
        "  j=1\n",
        "  while j<=4:\n",
        "    print(\"Rocks\", end = \" \")\n",
        "    j=j+1\n",
        "  i=i+1\n",
        "  print()\n"
      ],
      "metadata": {
        "colab": {
          "base_uri": "https://localhost:8080/"
        },
        "id": "fFF2sR1KnebB",
        "outputId": "5ed09e8d-fb95-4e12-adf7-326504de9ed4"
      },
      "execution_count": 23,
      "outputs": [
        {
          "output_type": "stream",
          "name": "stdout",
          "text": [
            "Sai Rocks Rocks Rocks Rocks \n",
            "Sai Rocks Rocks Rocks Rocks \n",
            "Sai Rocks Rocks Rocks Rocks \n",
            "Sai Rocks Rocks Rocks Rocks \n",
            "Sai Rocks Rocks Rocks Rocks \n"
          ]
        }
      ]
    },
    {
      "cell_type": "markdown",
      "source": [
        "##Square Pattern"
      ],
      "metadata": {
        "id": "vVNUIqXE7Fk2"
      }
    },
    {
      "cell_type": "code",
      "source": [
        "N = int(input(\"Enter the number\"))\n",
        "\n",
        "for i in range(1, N+1):\n",
        "  for j in range(1, N+1):\n",
        "    print(\"*\", end = \" \")\n",
        "  print()"
      ],
      "metadata": {
        "colab": {
          "base_uri": "https://localhost:8080/"
        },
        "id": "sJF3bsvTunYk",
        "outputId": "314ea98c-0de8-45e4-9873-6a0acb20a1ca"
      },
      "execution_count": 24,
      "outputs": [
        {
          "output_type": "stream",
          "name": "stdout",
          "text": [
            "Enter the number4\n",
            "* * * * \n",
            "* * * * \n",
            "* * * * \n",
            "* * * * \n"
          ]
        }
      ]
    },
    {
      "cell_type": "markdown",
      "source": [
        "## Increasing Triangle"
      ],
      "metadata": {
        "id": "JGz2xrG87Ibq"
      }
    },
    {
      "cell_type": "code",
      "source": [
        "N = int(input(\"Enter the number\"))\n",
        "\n",
        "for i in range(N):\n",
        "  for j in range(i+1): # Row values stored in i. Inner loop should run i+1 times\n",
        "    print(\"*\", end = \" \")\n",
        "  print()"
      ],
      "metadata": {
        "colab": {
          "base_uri": "https://localhost:8080/"
        },
        "id": "m7byIvmOu6IJ",
        "outputId": "51a229da-d4d9-4d62-ecc1-dc4978863dd9"
      },
      "execution_count": 36,
      "outputs": [
        {
          "output_type": "stream",
          "name": "stdout",
          "text": [
            "Enter the number4\n",
            "* \n",
            "* * \n",
            "* * * \n",
            "* * * * \n"
          ]
        }
      ]
    },
    {
      "cell_type": "markdown",
      "source": [
        "## Decreasing Triangle"
      ],
      "metadata": {
        "id": "K13X0zPR8Bsq"
      }
    },
    {
      "cell_type": "code",
      "source": [
        "N = int(input(\"Enter the number\"))\n",
        "\n",
        "for i in range(N):\n",
        "  for j in range(i,N):\n",
        "    print(\"*\", end = \" \")\n",
        "  print()"
      ],
      "metadata": {
        "colab": {
          "base_uri": "https://localhost:8080/"
        },
        "id": "qz8569bO62hh",
        "outputId": "cf8b14f5-fb3b-4a19-fe91-d742783ccbad"
      },
      "execution_count": 40,
      "outputs": [
        {
          "output_type": "stream",
          "name": "stdout",
          "text": [
            "Enter the number4\n",
            "* * * * \n",
            "* * * \n",
            "* * \n",
            "* \n"
          ]
        }
      ]
    },
    {
      "cell_type": "markdown",
      "source": [
        "## Right Hand Triangle"
      ],
      "metadata": {
        "id": "i3Zg-XUf8N_M"
      }
    },
    {
      "cell_type": "code",
      "source": [
        "N = int(input(\"Enter the number\"))\n",
        "\n",
        "for i in range(N):\n",
        "  for j in range(i,N):     # Decreasing triangle of empty spaces\n",
        "    print(\" \", end = \" \")\n",
        "  for j in range(i+1):     # increasing triangle of printing stars\n",
        "    print(\"*\", end = \" \")\n",
        "  print()"
      ],
      "metadata": {
        "colab": {
          "base_uri": "https://localhost:8080/"
        },
        "id": "udPvNpKSv3k9",
        "outputId": "a782706b-692f-4061-d4fb-8b3c7999ce06"
      },
      "execution_count": 39,
      "outputs": [
        {
          "output_type": "stream",
          "name": "stdout",
          "text": [
            "Enter the number4\n",
            "        * \n",
            "      * * \n",
            "    * * * \n",
            "  * * * * \n"
          ]
        }
      ]
    },
    {
      "cell_type": "markdown",
      "source": [
        "## Left Hand Triangle"
      ],
      "metadata": {
        "id": "CsBjxXXf-vj2"
      }
    },
    {
      "cell_type": "code",
      "source": [
        "N = int(input(\"Enter the number\"))\n",
        "\n",
        "for i in range(N):\n",
        "  for j in range(i+1):     # Increasing triangle of empty spaces\n",
        "    print(\" \", end = \" \")\n",
        "  for j in range(i,N):     # Decreasing triangle of printing stars\n",
        "    print(\"*\", end = \" \")\n",
        "  print()"
      ],
      "metadata": {
        "colab": {
          "base_uri": "https://localhost:8080/"
        },
        "id": "mSo3pK4q8rSt",
        "outputId": "d6d75cdc-c8b8-4265-c944-7e1aaab16001"
      },
      "execution_count": 44,
      "outputs": [
        {
          "output_type": "stream",
          "name": "stdout",
          "text": [
            "Enter the number4\n",
            "  * * * * \n",
            "    * * * \n",
            "      * * \n",
            "        * \n"
          ]
        }
      ]
    },
    {
      "cell_type": "markdown",
      "source": [
        "## Hill Pattern.. Use right hand Triangle. use 2nd loop one more time."
      ],
      "metadata": {
        "id": "j99nPtr4_vnH"
      }
    },
    {
      "cell_type": "code",
      "source": [
        "N = int(input(\"Enter the number\"))\n",
        "\n",
        "for i in range(N):\n",
        "  for j in range(i,N):     # Decreasing triangle of empty spaces\n",
        "    print(\" \", end = \" \")\n",
        "  for j in range(i+1):     # increasing triangle of printing stars\n",
        "    print(\"*\", end = \" \")\n",
        "  for j in range(i+1):     # increasing triangle of printing stars\n",
        "    print(\"*\", end = \" \")\n",
        "  print()"
      ],
      "metadata": {
        "colab": {
          "base_uri": "https://localhost:8080/"
        },
        "id": "axn4WfCW_zJf",
        "outputId": "09ef0585-02b3-47af-eb62-04be56604487"
      },
      "execution_count": 45,
      "outputs": [
        {
          "output_type": "stream",
          "name": "stdout",
          "text": [
            "Enter the number4\n",
            "        * * \n",
            "      * * * * \n",
            "    * * * * * * \n",
            "  * * * * * * * * \n"
          ]
        }
      ]
    },
    {
      "cell_type": "code",
      "source": [
        "N = int(input(\"Enter the number\"))\n",
        "\n",
        "for i in range(N):\n",
        "  for j in range(i,N):     # Decreasing triangle of empty spaces\n",
        "    print(\" \", end = \" \")\n",
        "  for j in range(i):     # increasing triangle of printing stars\n",
        "    print(\"*\", end = \" \")\n",
        "  for j in range(i+1):     # increasing triangle of printing stars\n",
        "    print(\"*\", end = \" \")\n",
        "  print()"
      ],
      "metadata": {
        "colab": {
          "base_uri": "https://localhost:8080/"
        },
        "id": "iqs173k8An3l",
        "outputId": "bb7425be-5b67-46e2-f4ef-17b636ea7670"
      },
      "execution_count": 46,
      "outputs": [
        {
          "output_type": "stream",
          "name": "stdout",
          "text": [
            "Enter the number4\n",
            "        * \n",
            "      * * * \n",
            "    * * * * * \n",
            "  * * * * * * * \n"
          ]
        }
      ]
    },
    {
      "cell_type": "markdown",
      "source": [
        "## Reverse Hill Pattern.. Use left hand Triangle. use 2nd loop one more time."
      ],
      "metadata": {
        "id": "qkiw5OdAAy3d"
      }
    },
    {
      "cell_type": "code",
      "source": [
        "N = int(input(\"Enter the number\"))\n",
        "\n",
        "for i in range(N):\n",
        "  for j in range(i+1):     # Increasing triangle of empty spaces\n",
        "    print(\" \", end = \" \")\n",
        "  for j in range(i,N-1):     # Decreasing triangle of printing stars\n",
        "    print(\"*\", end = \" \")\n",
        "  for j in range(i,N):     # Decreasing triangle of printing stars\n",
        "    print(\"*\", end = \" \")\n",
        "  print()"
      ],
      "metadata": {
        "colab": {
          "base_uri": "https://localhost:8080/"
        },
        "id": "NQ7-eOouA4NO",
        "outputId": "bd2f88d9-ba01-4f4a-f283-3f2533b8d558"
      },
      "execution_count": 48,
      "outputs": [
        {
          "output_type": "stream",
          "name": "stdout",
          "text": [
            "Enter the number4\n",
            "  * * * * * * * \n",
            "    * * * * * \n",
            "      * * * \n",
            "        * \n"
          ]
        }
      ]
    }
  ]
}