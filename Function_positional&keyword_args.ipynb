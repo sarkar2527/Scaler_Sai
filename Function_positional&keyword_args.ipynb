{
  "nbformat": 4,
  "nbformat_minor": 0,
  "metadata": {
    "colab": {
      "provenance": [],
      "authorship_tag": "ABX9TyPfa1k4Fu9vzo7Ia0nqPIKL",
      "include_colab_link": true
    },
    "kernelspec": {
      "name": "python3",
      "display_name": "Python 3"
    },
    "language_info": {
      "name": "python"
    }
  },
  "cells": [
    {
      "cell_type": "markdown",
      "metadata": {
        "id": "view-in-github",
        "colab_type": "text"
      },
      "source": [
        "<a href=\"https://colab.research.google.com/github/sarkar2527/Scaler_Sai/blob/main/Function_positional%26keyword_args.ipynb\" target=\"_parent\"><img src=\"https://colab.research.google.com/assets/colab-badge.svg\" alt=\"Open In Colab\"/></a>"
      ]
    },
    {
      "cell_type": "code",
      "execution_count": 15,
      "metadata": {
        "id": "BWzij-DxNLGD"
      },
      "outputs": [],
      "source": [
        "def math():\n",
        "  a = int(input())\n",
        "  b = int(input())\n",
        "  add = a+b\n",
        "  print(\"Addition result:\", add)\n",
        "  sub = a-b\n",
        "  print(\"Substraction result:\", sub)\n",
        "  mul = a*b\n",
        "  print(\"Mul Result:\", mul)\n",
        "  div = a/b\n",
        "  print(\"Div Result:\", div)"
      ]
    },
    {
      "cell_type": "code",
      "source": [
        "math()"
      ],
      "metadata": {
        "colab": {
          "base_uri": "https://localhost:8080/"
        },
        "id": "yvtxobTCNnTY",
        "outputId": "0895e498-e7e2-4dfb-85a5-16bac1eb07ef"
      },
      "execution_count": 16,
      "outputs": [
        {
          "output_type": "stream",
          "name": "stdout",
          "text": [
            "100\n",
            "25\n",
            "Addition result: 125\n",
            "Substraction result: 75\n",
            "Mul Result: 2500\n",
            "Div Result: 4.0\n"
          ]
        }
      ]
    },
    {
      "cell_type": "code",
      "source": [
        "def simple_interest(p,r,t):\n",
        "  interest = (p*r*t)/100\n",
        "  print(\"Simple Interest:\", interest)"
      ],
      "metadata": {
        "id": "0qEANWTWPjCF"
      },
      "execution_count": 17,
      "outputs": []
    },
    {
      "cell_type": "code",
      "source": [
        "simple_interest(1000,10,2)"
      ],
      "metadata": {
        "colab": {
          "base_uri": "https://localhost:8080/"
        },
        "id": "dy3TX8LQPvLf",
        "outputId": "54563784-cfb8-4b60-b4ba-c2af36e1cbf2"
      },
      "execution_count": 18,
      "outputs": [
        {
          "output_type": "stream",
          "name": "stdout",
          "text": [
            "Simple Interest: 200.0\n"
          ]
        }
      ]
    },
    {
      "cell_type": "code",
      "source": [
        "def simple_interest(p,r,t=5): # p,r positional arguments and t is the default or keyword argument.\n",
        "  interest = (p*r*t)/100\n",
        "  print(\"Simple Interest:\", interest)"
      ],
      "metadata": {
        "id": "AHFdqIQ9P1lI"
      },
      "execution_count": 19,
      "outputs": []
    },
    {
      "cell_type": "code",
      "source": [
        "simple_interest(1000,10,9)"
      ],
      "metadata": {
        "colab": {
          "base_uri": "https://localhost:8080/"
        },
        "id": "Rg_OTXd8P5Q0",
        "outputId": "fd4edf66-dffb-43b8-a232-922a962832aa"
      },
      "execution_count": 22,
      "outputs": [
        {
          "output_type": "stream",
          "name": "stdout",
          "text": [
            "Simple Interest: 900.0\n"
          ]
        }
      ]
    },
    {
      "cell_type": "code",
      "source": [
        "def person(name,age=18):\n",
        "  print(name)\n",
        "  print(age)"
      ],
      "metadata": {
        "id": "nT-xXBPJVgTV"
      },
      "execution_count": 23,
      "outputs": []
    },
    {
      "cell_type": "code",
      "source": [
        "person(\"Sai\")"
      ],
      "metadata": {
        "colab": {
          "base_uri": "https://localhost:8080/"
        },
        "id": "uhWnwguKVl3C",
        "outputId": "0f005f27-503f-439f-bfd8-db73fe2122f2"
      },
      "execution_count": 24,
      "outputs": [
        {
          "output_type": "stream",
          "name": "stdout",
          "text": [
            "Sai\n",
            "18\n"
          ]
        }
      ]
    },
    {
      "cell_type": "code",
      "source": [
        "def person(name,*data):\n",
        "  print(name)\n",
        "  print(data)"
      ],
      "metadata": {
        "id": "g_xFaccmVpSZ"
      },
      "execution_count": 27,
      "outputs": []
    },
    {
      "cell_type": "code",
      "source": [
        "person(\"Sai\", 30, \"hyd\")"
      ],
      "metadata": {
        "colab": {
          "base_uri": "https://localhost:8080/"
        },
        "id": "HhV9Ph3VVxOM",
        "outputId": "b13493c7-ed06-490f-fe8e-8b8b128b4415"
      },
      "execution_count": 28,
      "outputs": [
        {
          "output_type": "stream",
          "name": "stdout",
          "text": [
            "Sai\n",
            "(30, 'hyd')\n"
          ]
        }
      ]
    },
    {
      "cell_type": "code",
      "source": [
        "def person(name,**data): # If i want to pass the arguments with keyword,I've to use **\n",
        "  print(name)\n",
        "  for i,j in data.items():\n",
        "    print(i,j)"
      ],
      "metadata": {
        "id": "_WxP0BaIWty8"
      },
      "execution_count": 31,
      "outputs": []
    },
    {
      "cell_type": "code",
      "source": [
        "person(\"Sai\", age =18, city=\"hyd\")"
      ],
      "metadata": {
        "colab": {
          "base_uri": "https://localhost:8080/"
        },
        "id": "Ba2A5TKgWxfW",
        "outputId": "6d7becb0-a43c-403e-c888-c9a92acfa35b"
      },
      "execution_count": 32,
      "outputs": [
        {
          "output_type": "stream",
          "name": "stdout",
          "text": [
            "Sai\n",
            "age 18\n",
            "city hyd\n"
          ]
        }
      ]
    }
  ]
}